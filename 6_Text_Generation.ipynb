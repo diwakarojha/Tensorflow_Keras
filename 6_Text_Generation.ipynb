{
  "nbformat": 4,
  "nbformat_minor": 0,
  "metadata": {
    "colab": {
      "name": "6. Text Generation.ipynb",
      "provenance": [],
      "authorship_tag": "ABX9TyPUeUTD4m/kzw7pCq38kXV/",
      "include_colab_link": true
    },
    "kernelspec": {
      "name": "python3",
      "display_name": "Python 3"
    },
    "accelerator": "GPU"
  },
  "cells": [
    {
      "cell_type": "markdown",
      "metadata": {
        "id": "view-in-github",
        "colab_type": "text"
      },
      "source": [
        "<a href=\"https://colab.research.google.com/github/diwakarojha/Tensorflow_Keras/blob/main/6_Text_Generation.ipynb\" target=\"_parent\"><img src=\"https://colab.research.google.com/assets/colab-badge.svg\" alt=\"Open In Colab\"/></a>"
      ]
    },
    {
      "cell_type": "code",
      "metadata": {
        "id": "64rkJAjLwJ65"
      },
      "source": [
        "import tensorflow as tf\n",
        "from tensorflow.keras.preprocessing.text import Tokenizer\n",
        "from tensorflow.keras.preprocessing.sequence import pad_sequences\n",
        "from tensorflow.keras.utils import to_categorical\n",
        "from tensorflow.keras.layers import Bidirectional,Dense, LSTM,Embedding, Flatten\n",
        "from tensorflow.keras.models import Sequential\n",
        "\n",
        "import string\n",
        "import numpy as np\n",
        "import pandas as pd\n",
        "import matplotlib.pyplot as plt\n"
      ],
      "execution_count": 100,
      "outputs": []
    },
    {
      "cell_type": "code",
      "metadata": {
        "colab": {
          "base_uri": "https://localhost:8080/"
        },
        "id": "Bu_N8r4d3A4t",
        "outputId": "c7d27c88-058a-47d4-ff58-fdaf598a0dae"
      },
      "source": [
        "!wget --no-check-certificate \\\n",
        "    https://drive.google.com/uc?id=1LiJFZd41ofrWoBtW-pMYsfz1w8Ny0Bj8 \\\n",
        "    -O /tmp/songdata.csv"
      ],
      "execution_count": 101,
      "outputs": [
        {
          "output_type": "stream",
          "text": [
            "--2020-11-30 09:25:00--  https://drive.google.com/uc?id=1LiJFZd41ofrWoBtW-pMYsfz1w8Ny0Bj8\n",
            "Resolving drive.google.com (drive.google.com)... 209.85.234.139, 209.85.234.138, 209.85.234.100, ...\n",
            "Connecting to drive.google.com (drive.google.com)|209.85.234.139|:443... connected.\n",
            "HTTP request sent, awaiting response... 302 Moved Temporarily\n",
            "Location: https://doc-04-ak-docs.googleusercontent.com/docs/securesc/ha0ro937gcuc7l7deffksulhg5h7mbp1/iufgl6c142sd3isnhlstauiq5641lrth/1606728300000/11118900490791463723/*/1LiJFZd41ofrWoBtW-pMYsfz1w8Ny0Bj8 [following]\n",
            "Warning: wildcards not supported in HTTP.\n",
            "--2020-11-30 09:25:03--  https://doc-04-ak-docs.googleusercontent.com/docs/securesc/ha0ro937gcuc7l7deffksulhg5h7mbp1/iufgl6c142sd3isnhlstauiq5641lrth/1606728300000/11118900490791463723/*/1LiJFZd41ofrWoBtW-pMYsfz1w8Ny0Bj8\n",
            "Resolving doc-04-ak-docs.googleusercontent.com (doc-04-ak-docs.googleusercontent.com)... 108.177.121.132, 2607:f8b0:4001:c19::84\n",
            "Connecting to doc-04-ak-docs.googleusercontent.com (doc-04-ak-docs.googleusercontent.com)|108.177.121.132|:443... connected.\n",
            "HTTP request sent, awaiting response... 200 OK\n",
            "Length: unspecified [text/csv]\n",
            "Saving to: ‘/tmp/songdata.csv’\n",
            "\n",
            "/tmp/songdata.csv       [  <=>               ]  69.08M   218MB/s    in 0.3s    \n",
            "\n",
            "2020-11-30 09:25:03 (218 MB/s) - ‘/tmp/songdata.csv’ saved [72436445]\n",
            "\n"
          ],
          "name": "stdout"
        }
      ]
    },
    {
      "cell_type": "code",
      "metadata": {
        "id": "5q7uD2K63knh"
      },
      "source": [
        "data=pd.read_csv('/tmp/songdata.csv')"
      ],
      "execution_count": 102,
      "outputs": []
    },
    {
      "cell_type": "code",
      "metadata": {
        "colab": {
          "base_uri": "https://localhost:8080/",
          "height": 137
        },
        "id": "923iegK03tAG",
        "outputId": "c6dc3e12-a8c6-4e06-d35c-19e6d202be4e"
      },
      "source": [
        "data.text[1]"
      ],
      "execution_count": 103,
      "outputs": [
        {
          "output_type": "execute_result",
          "data": {
            "application/vnd.google.colaboratory.intrinsic+json": {
              "type": "string"
            },
            "text/plain": [
              "\"Take it easy with me, please  \\nTouch me gently like a summer evening breeze  \\nTake your time, make it slow  \\nAndante, Andante  \\nJust let the feeling grow  \\n  \\nMake your fingers soft and light  \\nLet your body be the velvet of the night  \\nTouch my soul, you know how  \\nAndante, Andante  \\nGo slowly with me now  \\n  \\nI'm your music  \\n(I am your music and I am your song)  \\nI'm your song  \\n(I am your music and I am your song)  \\nPlay me time and time again and make me strong  \\n(Play me again 'cause you're making me strong)  \\nMake me sing, make me sound  \\n(You make me sing and you make me)  \\nAndante, Andante  \\nTread lightly on my ground  \\nAndante, Andante  \\nOh please don't let me down  \\n  \\nThere's a shimmer in your eyes  \\nLike the feeling of a thousand butterflies  \\nPlease don't talk, go on, play  \\nAndante, Andante  \\nAnd let me float away  \\n  \\nI'm your music  \\n(I am your music and I am your song)  \\nI'm your song  \\n(I am your music and I am your song)  \\nPlay me time and time again and make me strong  \\n(Play me again 'cause you're making me strong)  \\nMake me sing, make me sound  \\n(You make me sing and you make me)  \\nAndante, Andante  \\nTread lightly on my ground  \\nAndante, Andante  \\nOh please don't let me down  \\n  \\nMake me sing, make me sound  \\n(You make me sing and you make me)  \\nAndante, Andante  \\nTread lightly on my ground  \\nAndante, Andante  \\nOh please don't let me down  \\nAndante, Andante  \\nOh please don't let me down\\n\\n\""
            ]
          },
          "metadata": {
            "tags": []
          },
          "execution_count": 103
        }
      ]
    },
    {
      "cell_type": "code",
      "metadata": {
        "id": "bV6F_Yak3uYD"
      },
      "source": [
        "def tokenize_corpus(corpus,num_words=-1):\n",
        "  if num_words>1:\n",
        "    tokenizer=Tokenizer(num_words)\n",
        "  else:\n",
        "    tokenizer=Tokenizer()\n",
        "\n",
        "  tokenizer.fit_on_texts(corpus)\n",
        "  #corpus_seq=tokenizer.texts_to_sequences(corpus)\n",
        "  return tokenizer\n",
        "\n",
        "def create_lyrics_corpus(dataset, field):\n",
        "  # Remove all other punctuation\n",
        "  dataset[field] = dataset[field].str.replace('[{}]'.format(string.punctuation), '')\n",
        "  # Make it lowercase\n",
        "  dataset[field] = dataset[field].str.lower()\n",
        "  # Make it one long string to split by line\n",
        "  lyrics = dataset[field].str.cat()\n",
        "  corpus = lyrics.split('\\n')\n",
        "  # Remove any trailing whitespace\n",
        "  for l in range(len(corpus)):\n",
        "    corpus[l] = corpus[l].rstrip()\n",
        "  # Remove any empty lines\n",
        "  corpus = [l for l in corpus if l != '']\n",
        "\n",
        "  return corpus\n"
      ],
      "execution_count": 104,
      "outputs": []
    },
    {
      "cell_type": "code",
      "metadata": {
        "id": "h0D-eqf94gbv"
      },
      "source": [
        "# corpus=data.text[0:3]\n",
        "# num_words=300\n",
        "# tokenizer=Tokenizer(num_words)\n",
        "# tokenizer.fit_on_texts(corpus)\n",
        "# corpus_seq=tokenizer.texts_to_sequences(corpus)"
      ],
      "execution_count": 105,
      "outputs": []
    },
    {
      "cell_type": "code",
      "metadata": {
        "colab": {
          "base_uri": "https://localhost:8080/"
        },
        "id": "ScJ2GN6d4k9I",
        "outputId": "64bbd34a-b5c3-409b-9ab9-59576c4d686b"
      },
      "source": [
        "datas=pd.DataFrame(data.loc[:250,:])\n",
        "corpus=create_lyrics_corpus(datas,'text')\n",
        "tokenizer=tokenize_corpus(corpus)\n",
        "total_words=len(tokenizer.word_index)+1\n",
        "print(total_words)\n",
        "print(corpus[:10])\n",
        "print(tokenizer.word_index)"
      ],
      "execution_count": 106,
      "outputs": [
        {
          "output_type": "stream",
          "text": [
            "4160\n",
            "['look at her face its a wonderful face', 'and it means something special to me', 'look at the way that she smiles when she sees me', 'how lucky can one fellow be', 'shes just my kind of girl she makes me feel fine', 'who could ever believe that she could be mine', 'shes just my kind of girl without her im blue', 'and if she ever leaves me what could i do what could i do', 'and when we go for a walk in the park', 'and she holds me and squeezes my hand']\n",
            "{'the': 1, 'i': 2, 'you': 3, 'a': 4, 'and': 5, 'to': 6, 'me': 7, 'it': 8, 'in': 9, 'my': 10, 'of': 11, 'that': 12, 'your': 13, 'im': 14, 'for': 15, 'all': 16, 'on': 17, 'love': 18, 'so': 19, 'is': 20, 'be': 21, 'we': 22, 'youre': 23, 'when': 24, 'but': 25, 'dont': 26, 'like': 27, 'just': 28, 'its': 29, 'with': 30, 'no': 31, 'know': 32, 'now': 33, 'do': 34, 'la': 35, 'what': 36, 'have': 37, 'got': 38, 'can': 39, 'was': 40, 'take': 41, 'one': 42, 'if': 43, 'down': 44, 'get': 45, 'yeah': 46, 'never': 47, 'time': 48, 'she': 49, 'see': 50, 'up': 51, 'go': 52, 'out': 53, 'baby': 54, 'were': 55, 'more': 56, 'gonna': 57, 'oh': 58, 'this': 59, 'they': 60, 'from': 61, 'want': 62, 'night': 63, 'he': 64, 'make': 65, 'gotta': 66, 'at': 67, 'are': 68, 'cant': 69, 'let': 70, 'way': 71, 'will': 72, 'theres': 73, 'feel': 74, 'well': 75, 'think': 76, 'cause': 77, 'away': 78, 'her': 79, 'could': 80, 'as': 81, 'girl': 82, 'aint': 83, 'day': 84, 'how': 85, 'tell': 86, 'little': 87, 'life': 88, 'said': 89, 'our': 90, 'say': 91, 'here': 92, 'there': 93, 'where': 94, 'honey': 95, 'too': 96, 'ill': 97, 'ive': 98, 'always': 99, 'not': 100, 'who': 101, 'then': 102, 'man': 103, 'come': 104, 'believe': 105, 'good': 106, 'through': 107, 'give': 108, 'thats': 109, 'am': 110, 'only': 111, 'look': 112, 'had': 113, 'need': 114, 'by': 115, 'wont': 116, 'really': 117, 'back': 118, 'world': 119, 'old': 120, 'please': 121, 'right': 122, 'about': 123, 'been': 124, 'sweet': 125, 'still': 126, 'live': 127, 'every': 128, 'us': 129, 'shes': 130, 'dance': 131, 'mind': 132, 'eyes': 133, 'better': 134, 'would': 135, 'stop': 136, 'find': 137, 'why': 138, 'yes': 139, 'his': 140, 'or': 141, 'hey': 142, 'some': 143, 'new': 144, 'around': 145, 'light': 146, 'long': 147, 'an': 148, 'everything': 149, 'side': 150, 'chorus': 151, 'last': 152, 'head': 153, 'ever': 154, 'people': 155, 'chance': 156, 'ya': 157, 'feeling': 158, 'shame': 159, 'hard': 160, 'hear': 161, 'did': 162, 'over': 163, 'nothing': 164, 'other': 165, 'youll': 166, 'must': 167, 'walk': 168, 'sing': 169, 'things': 170, 'before': 171, 'easy': 172, 'into': 173, 'gimme': 174, 'something': 175, 'again': 176, 'two': 177, 'stay': 178, 'him': 179, 'done': 180, 'blue': 181, 'has': 182, 'tonight': 183, 'youve': 184, 'sun': 185, 'hes': 186, 'bad': 187, 'same': 188, 'doctor': 189, 'friend': 190, 'youd': 191, 'hold': 192, 'heart': 193, 'true': 194, 'thing': 195, 'try': 196, 'fire': 197, 'city': 198, 'gone': 199, 'face': 200, 'even': 201, 'while': 202, 'didnt': 203, 'sure': 204, 'made': 205, 'miss': 206, 'song': 207, 'play': 208, 'show': 209, 'happy': 210, 'their': 211, 'after': 212, 'hand': 213, 'much': 214, 'leave': 215, 'dream': 216, 'call': 217, 'kind': 218, 'together': 219, 'nights': 220, 'lay': 221, 'ahha': 222, 'run': 223, 'without': 224, 'them': 225, 'place': 226, 'doing': 227, 'waiting': 228, 'days': 229, 'somebody': 230, 'alone': 231, 'remember': 232, 'does': 233, 'wasnt': 234, 'cow': 235, 'another': 236, 'round': 237, 'home': 238, 'goin': 239, 'care': 240, 'someone': 241, 'sometimes': 242, 'roll': 243, 'money': 244, 'wanna': 245, 'best': 246, 'mother': 247, 'off': 248, 'told': 249, 'bit': 250, 'friends': 251, 'going': 252, 'talk': 253, 'myself': 254, 'cry': 255, 'help': 256, 'watch': 257, 'music': 258, 'darling': 259, 'sorry': 260, 'lights': 261, 'left': 262, 'lose': 263, 'upon': 264, 'outta': 265, 'ma': 266, 'kiss': 267, 'door': 268, 'free': 269, 'whats': 270, 'crazy': 271, 'turn': 272, 'goes': 273, 'high': 274, 'pretty': 275, 'fernando': 276, 'keep': 277, 'soul': 278, 'enough': 279, 'morning': 280, 'dancing': 281, 'first': 282, 'far': 283, 'smile': 284, 'knew': 285, 'wrong': 286, 'somewhere': 287, 'wish': 288, 'wonder': 289, 'times': 290, 'nobody': 291, 'inside': 292, 'lala': 293, 'name': 294, 'lovin': 295, 'summer': 296, 'thought': 297, 'mean': 298, 'under': 299, 'seems': 300, 'id': 301, 'than': 302, 'road': 303, 'shit': 304, 'pain': 305, 'came': 306, 'couldnt': 307, 'hot': 308, 'hell': 309, 'rockn': 310, 'these': 311, 'ring': 312, 'sword': 313, 'used': 314, 'real': 315, 'each': 316, 'comes': 317, 'those': 318, 'lovers': 319, 'wants': 320, 'rich': 321, 'put': 322, 'theyre': 323, 'listen': 324, 'dreams': 325, 'move': 326, 'fun': 327, 'living': 328, 'woman': 329, 'forever': 330, 'moon': 331, 'ready': 332, 'making': 333, 'once': 334, 'knowing': 335, 'late': 336, 'hope': 337, 'fly': 338, 'should': 339, 'everybody': 340, 'livin': 341, 'supernatural': 342, 'touch': 343, 'body': 344, 'break': 345, 'hearts': 346, 'reason': 347, 'own': 348, 'shining': 349, 'forget': 350, 'lets': 351, 'knows': 352, 'weve': 353, 'looking': 354, 'rock': 355, 'doesnt': 356, 'maybe': 357, 'shine': 358, 'room': 359, 'eat': 360, 'big': 361, 'jeanie': 362, 'mercy': 363, 'deep': 364, 'behind': 365, 'may': 366, 'lot': 367, 'lord': 368, 'funny': 369, 'open': 370, 'taste': 371, 'middle': 372, 'gave': 373, 'mama': 374, 'till': 375, 'farm': 376, 'makes': 377, 'sound': 378, 'boy': 379, 'near': 380, 'saw': 381, 'until': 382, 'sky': 383, 'went': 384, 'scream': 385, 'dog': 386, 'fine': 387, 'walking': 388, 'such': 389, 'found': 390, 'start': 391, 'words': 392, 'queen': 393, 'isnt': 394, 'close': 395, 'year': 396, 'lonely': 397, 'any': 398, 'town': 399, 'voulezvous': 400, 'movin': 401, 'pink': 402, 'andante': 403, 'anymore': 404, 'boomaboomerang': 405, 'sad': 406, 'thinking': 407, 'lies': 408, 'sitting': 409, 'memories': 410, 'young': 411, 'coming': 412, 'many': 413, 'gets': 414, 'wind': 415, 'glove': 416, 'today': 417, 'tried': 418, 'train': 419, 'gun': 420, 'john': 421, 'mine': 422, 'god': 423, 'end': 424, 'yourself': 425, 'street': 426, 'wait': 427, 'tomorrow': 428, 'dark': 429, 'years': 430, 'tight': 431, 'loved': 432, 'line': 433, 'follow': 434, 'fill': 435, 'along': 436, 'game': 437, 'sunny': 438, 'change': 439, 'waterloo': 440, 'uh': 441, 'burning': 442, 'being': 443, 'sleep': 444, 'cool': 445, 'meet': 446, 'die': 447, 'midnight': 448, 'sight': 449, 'ask': 450, 'falling': 451, 'might': 452, 'heaven': 453, 'helen': 454, 'songs': 455, 'kissed': 456, 'fall': 457, 'belong': 458, 'marionette': 459, 'hit': 460, 'black': 461, 'hug': 462, 'pick': 463, 'farmer': 464, 'slow': 465, 'strong': 466, 'ground': 467, 'dumb': 468, 'leaving': 469, 'though': 470, 'bed': 471, 'wanted': 472, 'rain': 473, 'cold': 474, 'having': 475, 'matter': 476, 'ah': 477, 'understand': 478, 'ooh': 479, 'floor': 480, 'very': 481, 'pull': 482, 'oooh': 483, 'surprise': 484, 'ass': 485, 'fucking': 486, 'kisses': 487, 'bang': 488, 'past': 489, 'fight': 490, 'took': 491, 'em': 492, 'seem': 493, 'since': 494, 'que': 495, 'window': 496, 'worth': 497, 'noise': 498, 'voices': 499, 'laugh': 500, 'longer': 501, 'boys': 502, 'alright': 503, 'fear': 504, 'story': 505, 'lovelight': 506, 'mans': 507, 'tells': 508, 'instead': 509, 'bale': 510, 'ba': 511, 'crackin': 512, 'teacher': 513, 'toys': 514, 'moo': 515, 'fever': 516, 'janies': 517, 'giving': 518, 'pride': 519, 'part': 520, 'men': 521, 'brother': 522, 'king': 523, 'shadows': 524, 'voice': 525, 'breaking': 526, 'feelings': 527, 'seen': 528, 'speak': 529, 'star': 530, 'laid': 531, 'lie': 532, 'passing': 533, 'bring': 534, 'guess': 535, 'throw': 536, 'cross': 537, 'apart': 538, 'cat': 539, 'answer': 540, 'rocking': 541, 'kept': 542, 'tiger': 543, 'knees': 544, 'rockin': 545, 'hoppin': 546, 'taking': 547, 'learn': 548, 'use': 549, 'lost': 550, 'feet': 551, 'goodbye': 552, 'wild': 553, 'minute': 554, 'afraid': 555, 'full': 556, 'air': 557, 'soon': 558, 'send': 559, 'heard': 560, 'lady': 561, 'hello': 562, 'price': 563, 'hole': 564, 'lover': 565, 'somethings': 566, 'suppper': 567, 'share': 568, 'wouldnt': 569, 'rest': 570, 'roller': 571, 'everyone': 572, 'because': 573, 'cecilia': 574, 'fast': 575, 'comin': 576, 'runner': 577, 'ooooo': 578, 'talking': 579, 'grow': 580, 'anywhere': 581, 'fool': 582, 'playing': 583, 'else': 584, 'sunrise': 585, 'hate': 586, 'trying': 587, 'crowd': 588, 'angel': 589, 'needs': 590, 'empty': 591, 'outside': 592, 'replaced': 593, 'hurt': 594, 'lookin': 595, 'arms': 596, 'magic': 597, 'carry': 598, 'cries': 599, 'bound': 600, 'doll': 601, 'glad': 602, 'theyll': 603, 'buy': 604, 'hide': 605, 'trip': 606, 'shake': 607, 'heat': 608, 'lordy': 609, 'save': 610, 'hurts': 611, 'whole': 612, 'aha': 613, 'fingers': 614, 'standing': 615, 'tired': 616, 'ways': 617, 'ride': 618, 'dead': 619, 'chiquitita': 620, 'loves': 621, 'blind': 622, 'blame': 623, 'met': 624, 'getting': 625, 'style': 626, 'movie': 627, 'frida': 628, 'proud': 629, 'darkness': 630, 'half': 631, 'different': 632, 'til': 633, 'blues': 634, 'strange': 635, 'looked': 636, 'bother': 637, 'trooppper': 638, 'kinda': 639, 'bittersweet': 640, 'happiest': 641, 'sea': 642, 's': 643, 'suzyhangaround': 644, 'mm': 645, 'nothin': 646, 'verse': 647, 'believer': 648, 'gettin': 649, 'dum': 650, 'oasis': 651, 'st': 652, 'arollin': 653, 'special': 654, 'alive': 655, 'caught': 656, 'stood': 657, 'broken': 658, 'house': 659, 'nice': 660, 'yet': 661, 'scene': 662, 'low': 663, 'read': 664, 'child': 665, 'agnetha': 666, 'sounds': 667, 'known': 668, 'win': 669, 'givin': 670, 'lives': 671, 'happened': 672, 'between': 673, 'children': 674, 'blow': 675, 'tear': 676, 'moment': 677, 'everybodys': 678, 'suddenly': 679, 'emotion': 680, 'luck': 681, 'ball': 682, 'red': 683, 'doubt': 684, 'hands': 685, 'sore': 686, 'sunshine': 687, 'owe': 688, 'talkin': 689, 'blood': 690, 'headyeah': 691, 'rag': 692, 'messin': 693, 'american': 694, 'thousand': 695, 'thank': 696, 'meant': 697, 'tune': 698, 'sick': 699, 'pity': 700, 'dawning': 701, 'above': 702, 'car': 703, 'cryin': 704, 'anyone': 705, 'smiling': 706, 'wishing': 707, 'somehow': 708, 'diddle': 709, 'wed': 710, 'land': 711, 'helping': 712, 'bright': 713, 'chase': 714, 'loving': 715, 'heels': 716, 'walked': 717, 'write': 718, 'called': 719, 'n': 720, 'band': 721, 'bout': 722, 'rough': 723, 'girls': 724, 'devil': 725, 'tree': 726, 'underneath': 727, 'jump': 728, 'soldiers': 729, 'beneath': 730, 'loveland': 731, 'perfect': 732, 'christmas': 733, 'rise': 734, 'missing': 735, 'smokin': 736, 'bread': 737, 'bite': 738, 'shove': 739, 'push': 740, 'india': 741, 'yak': 742, 'leaves': 743, 'park': 744, 'growing': 745, 'beg': 746, 'cassandra': 747, 'future': 748, 'almost': 749, 'guy': 750, 'anybody': 751, 'beat': 752, 'dreamworld': 753, 'trust': 754, 'work': 755, 'fiddle': 756, 'fair': 757, 'questions': 758, 'y': 759, 'finally': 760, 'spend': 761, 'noone': 762, 'phone': 763, 'second': 764, 'imagine': 765, 'keeps': 766, 'treat': 767, 'turned': 768, 'likes': 769, 'says': 770, 'stream': 771, 'both': 772, 'ours': 773, 'shoes': 774, 'school': 775, 'ending': 776, 'single': 777, 'anything': 778, 'fantasy': 779, 'joy': 780, 'clown': 781, 'ends': 782, 'point': 783, 'learned': 784, 'twice': 785, 'drink': 786, 'merrygoround': 787, 'small': 788, 'faith': 789, 'takes': 790, 'rikky': 791, 'o': 792, 'slipping': 793, 'cried': 794, 'following': 795, 'crack': 796, 'desire': 797, 'headin': 798, 'cuz': 799, 'slippin': 800, 'grind': 801, 'roxy': 802, 'bloody': 803, 'temperature': 804, 'means': 805, 'evening': 806, 'breeze': 807, 'question': 808, 'return': 809, 'warm': 810, 'crying': 811, 'hour': 812, 'nothings': 813, 'chasing': 814, 'escape': 815, 'within': 816, 'theyve': 817, 'lo': 818, 'mmm': 819, 'blowing': 820, 'rainbow': 821, 'few': 822, 'whatever': 823, 'taken': 824, 'ahhah': 825, 'rather': 826, 'sigh': 827, 'dear': 828, 'returning': 829, 'insane': 830, 'super': 831, 'monkey': 832, 'babe': 833, 'wake': 834, 'precious': 835, 'picture': 836, 'cotton': 837, 'stand': 838, 'birds': 839, 'test': 840, 'yellow': 841, 'tropical': 842, 'across': 843, 'tidings': 844, 'lead': 845, 'held': 846, 'changes': 847, 'edge': 848, 'uncle': 849, 'prechorus': 850, 'tall': 851, 'heads': 852, 'nah': 853, 'leavin': 854, 'chuck': 855, 'beep': 856, 'hours': 857, 'felt': 858, 'mad': 859, 'moving': 860, 'sister': 861, 'fate': 862, 'truth': 863, 'closed': 864, 'smiled': 865, 'nobodys': 866, 'flying': 867, 'jive': 868, 'hopes': 869, 'white': 870, 'bird': 871, 'softly': 872, 'si': 873, 'tuviera': 874, 'volverlo': 875, 'hacer': 876, 'haria': 877, 'beautiful': 878, 'weather': 879, 'track': 880, 'twinkle': 881, 'dawn': 882, 'gloom': 883, 'runs': 884, 'tears': 885, 'fell': 886, 'clouds': 887, 'early': 888, 'gives': 889, 'trouble': 890, 'romance': 891, 'daddy': 892, 'loose': 893, 'begun': 894, 'size': 895, 'beats': 896, 'million': 897, 'choice': 898, 'angels': 899, 'dry': 900, 'mirror': 901, 'needed': 902, 'wall': 903, 'clearly': 904, 'able': 905, 'trooper': 906, 'mighty': 907, 'sit': 908, 'mia': 909, 'damn': 910, 'turns': 911, 'store': 912, 'word': 913, 'clear': 914, 'women': 915, 'flowers': 916, 'whenever': 917, 'sense': 918, 'pass': 919, 'building': 920, 'visitors': 921, 'winner': 922, 'kin': 923, 'breath': 924, 'shed': 925, 'stinks': 926, '1': 927, '2': 928, 'catch': 929, 'draw': 930, 'daddys': 931, 'knock': 932, 'yonder': 933, 'heh': 934, 'tongue': 935, 'youtrip': 936, 'soft': 937, 'saying': 938, 'notion': 939, 'walkin': 940, 'peace': 941, 'warning': 942, 'filled': 943, 'walls': 944, 'blown': 945, 'seeing': 946, 'bone': 947, 'sittin': 948, 'memory': 949, 'heal': 950, 'driving': 951, 'searching': 952, 'meets': 953, 'eagle': 954, 'higher': 955, 'travel': 956, 'repeat': 957, 'en': 958, 'de': 959, 'next': 960, 'working': 961, 'lying': 962, 'trees': 963, 'twilight': 964, 'dying': 965, 'embers': 966, 'awake': 967, 'forgotten': 968, 'games': 969, 'watching': 970, 'honolulu': 971, 'hawaii': 972, 'party': 973, 'ten': 974, 'running': 975, 'gold': 976, 'beginning': 977, 'least': 978, 'rhythm': 979, 'streets': 980, 'pay': 981, 'keepin': 982, 'tellin': 983, 'number': 984, 'destiny': 985, 'landslide': 986, 'easily': 987, 'choose': 988, 'patience': 989, 'mamma': 990, 'bobby': 991, 'bobbys': 992, 'everyones': 993, 'happens': 994, 'treasure': 995, 'lalala': 996, 'secret': 997, 'nina': 998, 'ballerina': 999, 'cinderella': 1000, 'great': 1001, 'situation': 1002, 'key': 1003, 'started': 1004, 'horse': 1005, 'died': 1006, 'starts': 1007, 'thanks': 1008, 'melody': 1009, 'carrie': 1010, 'quarter': 1011, 'upside': 1012, 'piper': 1013, 'dice': 1014, 'attack': 1015, 'promised': 1016, 'regrets': 1017, 'ohalala': 1018, 'lately': 1019, 'book': 1020, 'promise': 1021, 'merry': 1022, 'traveling': 1023, 'color': 1024, 'calling': 1025, 'confess': 1026, 'nation': 1027, 'wasted': 1028, 'bridge': 1029, 'illuminates': 1030, 'doubts': 1031, 'harder': 1032, 'lasts': 1033, 'court': 1034, 'kissin': 1035, 'tails': 1036, 'nose': 1037, 'feelin': 1038, 'shut': 1039, 'cmon': 1040, 'nancy': 1041, 'brain': 1042, 'elevator': 1043, 'water': 1044, 'feeds': 1045, 'earth': 1046, 'thin': 1047, 'shows': 1048, 'ladies': 1049, 'york': 1050, 'season': 1051, 'job': 1052, 'tropez': 1053, 'attic': 1054, 'wearing': 1055, 'pneumonia': 1056, 'skin': 1057, 'praised': 1058, 'lucy': 1059, 'girlya': 1060, 'voodoo': 1061, 'fellow': 1062, 'tough': 1063, 'mistake': 1064, 'forgive': 1065, 'tender': 1066, 'eye': 1067, 'singing': 1068, 'none': 1069, 'darkest': 1070, 'final': 1071, 'shadow': 1072, 'figure': 1073, 'deny': 1074, 'front': 1075, 'realized': 1076, 'mood': 1077, 'seventeen': 1078, 'laughing': 1079, 'disillusion': 1080, 'disillusions': 1081, 'loud': 1082, 'stars': 1083, 'reach': 1084, 'whirl': 1085, 'dreaming': 1086, 'drums': 1087, 'seemed': 1088, 'regret': 1089, 'recall': 1090, 'freedom': 1091, 'x2': 1092, 'yo': 1093, 'autumn': 1094, 'fortune': 1095, 'plane': 1096, 'sand': 1097, 'yesterday': 1098, 'chair': 1099, 'leading': 1100, 'pushing': 1101, 'hurry': 1102, 'river': 1103, 'sail': 1104, 'ocean': 1105, 'spit': 1106, 'kill': 1107, 'conceal': 1108, 'thrill': 1109, 'evil': 1110, 'wide': 1111, 'constant': 1112, 'steady': 1113, 'famous': 1114, 'bars': 1115, 'painted': 1116, 'lifetime': 1117, 'thinkin': 1118, 'doin': 1119, 'kong': 1120, 'silly': 1121, 'ceiling': 1122, 'someday': 1123, 'tv': 1124, 'lips': 1125, 'devotions': 1126, 'emotions': 1127, 'silence': 1128, 'seasons': 1129, 'wedding': 1130, 'sensation': 1131, 'gloomy': 1132, 'corner': 1133, 'waited': 1134, 'brokenhearted': 1135, 'apple': 1136, 'rainy': 1137, 'table': 1138, 'fancy': 1139, 'trough': 1140, 'faces': 1141, 'fact': 1142, 'hair': 1143, 'spin': 1144, 'buddy': 1145, 'rhyme': 1146, 'dig': 1147, 'jet': 1148, 'trick': 1149, 'teach': 1150, 'rubber': 1151, 'usual': 1152, 'short': 1153, 'grown': 1154, 'stone': 1155, 'drum': 1156, 'nine': 1157, 'dinner': 1158, 'crown': 1159, 'minds': 1160, 'east': 1161, 'history': 1162, 'local': 1163, 'three': 1164, 'cover': 1165, 'decision': 1166, 'livingstone': 1167, 'endless': 1168, 'reaching': 1169, 'judge': 1170, 'born': 1171, 'fuck': 1172, 'later': 1173, 'hells': 1174, 'polychronopolous': 1175, 'dust': 1176, 'appetite': 1177, 'crime': 1178, 'burnin': 1179, 'workin': 1180, 'lines': 1181, 'sin': 1182, 'gypsy': 1183, 'losin': 1184, 'foolin': 1185, 'pandora': 1186, 'tramp': 1187, 'cutie': 1188, 'mam': 1189, 'rocket': 1190, 'boogie': 1191, 'hearted': 1192, 'gritty': 1193, 'screw': 1194, 'spaced': 1195, 'spiderman': 1196, 'lingers': 1197, 'tip': 1198, 'na': 1199, 'awhile': 1200, 'beaten': 1201, 'wonderful': 1202, 'sees': 1203, 'slowly': 1204, 'tread': 1205, 'stuff': 1206, 'cheap': 1207, 'feels': 1208, 'sender': 1209, 'humdehumhum': 1210, 'surrender': 1211, 'holy': 1212, 'staying': 1213, 'secrets': 1214, 'ship': 1215, 'casting': 1216, 'bags': 1217, 'sorrow': 1218, 'quiet': 1219, 'candle': 1220, 'emptiness': 1221, 'stupid': 1222, 'waitin': 1223, 'borrow': 1224, 'fade': 1225, 'friday': 1226, 'swing': 1227, 'tambourine': 1228, 'wondering': 1229, 'chat': 1230, 'flash': 1231, 'reality': 1232, 'wooh': 1233, 'spell': 1234, 'climb': 1235, 'ago': 1236, 'atras': 1237, 'tu': 1238, 'por': 1239, 'diamond': 1240, 'goodnight': 1241, 'falls': 1242, 'peaceful': 1243, 'become': 1244, 'images': 1245, 'winds': 1246, 'eternity': 1247, 'cannot': 1248, 'exciting': 1249, 'beach': 1250, 'thinks': 1251, 'anyway': 1252, 'depend': 1253, 'comfort': 1254, 'others': 1255, 'everywhere': 1256, 'trace': 1257, 'hesitation': 1258, 'unknown': 1259, 'setting': 1260, 'paid': 1261, 'worse': 1262, 'action': 1263, 'paint': 1264, 'telling': 1265, 'nearly': 1266, 'dizzy': 1267, 'among': 1268, 'looks': 1269, 'cloud': 1270, 'attraction': 1271, 'skyline': 1272, 'energy': 1273, 'neon': 1274, 'joke': 1275, 'familiar': 1276, 'married': 1277, 'frightening': 1278, 'scares': 1279, 'coward': 1280, 'family': 1281, 'restless': 1282, 'bills': 1283, 'space': 1284, 'pet': 1285, 'happening': 1286, 'delight': 1287, 'adore': 1288, 'beams': 1289, 'facing': 1290, 'touching': 1291, 'dreadful': 1292, 'chest': 1293, 'safe': 1294, 'scared': 1295, 'losing': 1296, 'ahhaa': 1297, 'stuck': 1298, 'lots': 1299, 'dirty': 1300, 'glow': 1301, 'news': 1302, 'parted': 1303, 'slam': 1304, 'bye': 1305, 'fat': 1306, 'lunch': 1307, 'boss': 1308, 'conscience': 1309, 'beside': 1310, 'stands': 1311, 'moods': 1312, 'inspiration': 1313, 'combination': 1314, 'freak': 1315, 'ideas': 1316, 'doors': 1317, 'motion': 1318, 'flowing': 1319, 'urge': 1320, 'explain': 1321, 'week': 1322, 'shot': 1323, 'staring': 1324, 'changed': 1325, 'dame': 1326, 'fan': 1327, 'nee': 1328, 'company': 1329, 'whos': 1330, 'kick': 1331, 'reeling': 1332, 'flies': 1333, 'throat': 1334, 'ahhaha': 1335, 'moonlight': 1336, 'renee': 1337, 'sleeping': 1338, 'suzy': 1339, 'playground': 1340, 'flown': 1341, 'affair': 1342, 'baa': 1343, 'honesty': 1344, 'notthekindofgirlyoudmarry': 1345, 'certain': 1346, 'paper': 1347, 'gotten': 1348, 'hid': 1349, 'five': 1350, 'opened': 1351, 'turning': 1352, 'disgrace': 1353, 'step': 1354, 'impossible': 1355, 'case': 1356, 'books': 1357, 'muffled': 1358, 'noises': 1359, 'louder': 1360, 'irritation': 1361, 'fainting': 1362, 'trembling': 1363, 'terror': 1364, 'escaping': 1365, 'rules': 1366, 'spotlight': 1367, 'shape': 1368, 'heres': 1369, 'quite': 1370, 'flame': 1371, 'won': 1372, 'refuse': 1373, 'natural': 1374, 'whom': 1375, 'passion': 1376, 'fashion': 1377, 'curl': 1378, 'whistle': 1379, 'mr': 1380, 'mudda': 1381, 'letter': 1382, 'tasted': 1383, 'four': 1384, 'fuckin': 1385, 'names': 1386, 'steve': 1387, 'motherfucking': 1388, 'girlfriend': 1389, 'grab': 1390, 'hits': 1391, 'mrr': 1392, 'smoke': 1393, 'matters': 1394, 'lied': 1395, 'coat': 1396, 'mustve': 1397, 'piece': 1398, 'steal': 1399, 'mouth': 1400, 'souls': 1401, 'glory': 1402, 'fuse': 1403, 'check': 1404, 'woke': 1405, 'promises': 1406, 'bliss': 1407, 'drag': 1408, 'drawn': 1409, 'pack': 1410, 'whose': 1411, 'citys': 1412, 'fist': 1413, 'hill': 1414, 'bay': 1415, 'shell': 1416, 'conversation': 1417, 'wears': 1418, 'tan': 1419, 'forty': 1420, 'misery': 1421, '88': 1422, 'woogie': 1423, 'flu': 1424, 'woe': 1425, 'unreal': 1426, 'knowsyeah': 1427, 'finer': 1428, 'remind': 1429, 'ha': 1430, 'foolish': 1431, 'reals': 1432, 'stoppin': 1433, 'swore': 1434, 'notice': 1435, 'confuse': 1436, 'strength': 1437, 'mud': 1438, 'thicker': 1439, 'plan': 1440, 'lightly': 1441, 'rotten': 1442, 'keeping': 1443, 'dumbedumdum': 1444, 'bedumbedumdum': 1445, 'dumbbedumbdumb': 1446, 'bedumbbedumbdumb': 1447, 'sucker': 1448, 'laughter': 1449, 'misunderstood': 1450, 'power': 1451, 'weave': 1452, 'grieving': 1453, 'feather': 1454, 'hardly': 1455, 'guys': 1456, 'joe': 1457, 'diggin': 1458, 'changing': 1459, 'hoping': 1460, 'flirt': 1461, 'pretend': 1462, 'fuss': 1463, 'hearing': 1464, 'stories': 1465, 'places': 1466, 'wings': 1467, 'rides': 1468, 'seas': 1469, 'distant': 1470, 'closer': 1471, 'grey': 1472, 'havent': 1473, 'con': 1474, 'algo': 1475, 'habia': 1476, 'alrededor': 1477, 'quiza': 1478, 'claridad': 1479, 'brillaba': 1480, 'nosotros': 1481, 'dos': 1482, 'proteccion': 1483, 'pensabamos': 1484, 'jamas': 1485, 'perder': 1486, 'ni': 1487, 'echar': 1488, 'bus': 1489, 'downtown': 1490, 'grass': 1491, 'daylight': 1492, 'fireplace': 1493, 'solitude': 1494, 'subdued': 1495, 'scenes': 1496, 'present': 1497, 'entwined': 1498, 'prolonged': 1499, 'flat': 1500, 'prays': 1501, 'plain': 1502, 'alice': 1503, 'plans': 1504, 'vacation': 1505, 'holding': 1506, 'vision': 1507, 'neighbor': 1508, 'jungles': 1509, 'rushing': 1510, 'pace': 1511, 'gauntlet': 1512, 'lace': 1513, 'extreme': 1514, 'stayed': 1515, 'broke': 1516, 'worst': 1517, 'cursed': 1518, 'office': 1519, 'pool': 1520, 'colors': 1521, 'surely': 1522, 'whispered': 1523, 'welcome': 1524, 'language': 1525, 'hotels': 1526, 'cocktail': 1527, 'smells': 1528, 'turmoil': 1529, 'cars': 1530, 'breathing': 1531, 'cope': 1532, 'fail': 1533, 'straight': 1534, 'speaking': 1535, 'houses': 1536, 'dull': 1537, 'missed': 1538, 'courage': 1539, 'business': 1540, 'everythings': 1541, 'pushed': 1542, 'string': 1543, 'pirouette': 1544, 'control': 1545, 'brought': 1546, 'ease': 1547, 'agree': 1548, 'twenty': 1549, 'prove': 1550, 'killer': 1551, 'gorilla': 1552, 'affairs': 1553, 'riding': 1554, 'smoking': 1555, 'wasting': 1556, 'winter': 1557, 'snow': 1558, 'papers': 1559, 'result': 1560, 'resist': 1561, 'limousine': 1562, 'wine': 1563, 'spider': 1564, 'bothered': 1565, 'most': 1566, 'everyday': 1567, 'fights': 1568, 'wildest': 1569, 'kids': 1570, 'liked': 1571, 'shouldnt': 1572, 'unique': 1573, 'course': 1574, 'act': 1575, 'prison': 1576, 'penny': 1577, 'ahaahaaa': 1578, 'search': 1579, 'travelled': 1580, 'image': 1581, 'posses': 1582, 'bless': 1583, 'ahead': 1584, 'shy': 1585, 'human': 1586, 'rights': 1587, 'state': 1588, 'bar': 1589, 'changin': 1590, 'paris': 1591, 'talked': 1592, 'walks': 1593, 'worries': 1594, 'hero': 1595, 'drop': 1596, 'cares': 1597, 'sombrero': 1598, 'dressed': 1599, 'fans': 1600, 'ohoh': 1601, 'stare': 1602, 'badly': 1603, 'babys': 1604, 'set': 1605, 'fools': 1606, 'halfway': 1607, 'palm': 1608, 'message': 1609, 'capture': 1610, 'horns': 1611, 'bugler': 1612, 'distance': 1613, 'block': 1614, 'weary': 1615, 'breathe': 1616, 'mamas': 1617, 'bringing': 1618, 'whoever': 1619, 'letters': 1620, 'seventh': 1621, 'aim': 1622, 'disaster': 1623, 'clumsy': 1624, 'hills': 1625, 'summoned': 1626, 'south': 1627, 'west': 1628, 'tearing': 1629, 'evergrowing': 1630, 'played': 1631, 'glowing': 1632, 'pages': 1633, 'candy': 1634, 'defenses': 1635, 'rescue': 1636, 'masters': 1637, 'cest': 1638, 'ohalalala': 1639, 'fading': 1640, 'stranger': 1641, 'itself': 1642, 'defeated': 1643, 'war': 1644, 'milk': 1645, 'cookies': 1646, 'sacrificed': 1647, 'nile': 1648, 'putting': 1649, 'themselves': 1650, 'chill': 1651, 'pie': 1652, 'class': 1653, 'lesson': 1654, 'wellknown': 1655, 'according': 1656, 'mental': 1657, 'against': 1658, 'tone': 1659, 'colour': 1660, 'laudate': 1661, 'twist': 1662, 'forgot': 1663, 'sincere': 1664, 'stops': 1665, 'gee': 1666, 'fucks': 1667, 'clothes': 1668, 'bitch': 1669, 'tin': 1670, 'brains': 1671, 'showed': 1672, 'slice': 1673, 'pants': 1674, 'extra': 1675, 'club': 1676, 'bouncer': 1677, 'stinky': 1678, 'thumbs': 1679, 'arbuckle': 1680, 'musta': 1681, 'jack': 1682, 'son': 1683, 'weed': 1684, 'note': 1685, 'wrote': 1686, 'seam': 1687, 'lump': 1688, 'outro': 1689, 'bare': 1690, 'melt': 1691, 'stays': 1692, 'miles': 1693, 'ooooohh': 1694, 'worlds': 1695, 'weak': 1696, 'which': 1697, 'tidy': 1698, 'drunk': 1699, 'older': 1700, 'mistakes': 1701, 'fears': 1702, 'survive': 1703, 'missin': 1704, 'biscuits': 1705, 'oven': 1706, 'hallelujah': 1707, 'glass': 1708, 'tail': 1709, 'checkmate': 1710, 'ho': 1711, 'knife': 1712, 'eats': 1713, 'eatin': 1714, 'beggin': 1715, 'brand': 1716, 'lust': 1717, 'rattlesnake': 1718, 'speed': 1719, 'plague': 1720, 'holdin': 1721, 'nowhere': 1722, 'ohlay': 1723, 'pullin': 1724, 'survives': 1725, 'tea': 1726, 'dogs': 1727, 'hushabye': 1728, 'boot': 1729, 'mornin': 1730, 'makin': 1731, 'dreamer': 1732, 'carriage': 1733, 'pleasure': 1734, 'trial': 1735, 'kickin': 1736, 'needle': 1737, 'backstage': 1738, 'police': 1739, 'insanity': 1740, 'runnin': 1741, 'awful': 1742, 'fault': 1743, 'coffee': 1744, 'loss': 1745, 'hangin': 1746, 'clean': 1747, 'shines': 1748, 'cherry': 1749, 'huh': 1750, 'gain': 1751, 'shall': 1752, 'strangest': 1753, 'followed': 1754, 'nitty': 1755, 'explode': 1756, 'comic': 1757, 'somebodys': 1758, 'danced': 1759, 'roseyeah': 1760, 'sunshineyeah': 1761, '103': 1762, '4': 1763, '5': 1764, 'bends': 1765, 'thru': 1766, 'youno': 1767, 'medicine': 1768, 'succeed': 1769, 'smiles': 1770, 'lucky': 1771, 'gently': 1772, 'butterflies': 1773, 'lousy': 1774, 'packing': 1775, 'intention': 1776, 'dimension': 1777, 'advice': 1778, 'selfish': 1779, 'tool': 1780, 'showing': 1781, 'boomerang': 1782, 'throwing': 1783, 'hoot': 1784, 'holler': 1785, 'deal': 1786, 'bridges': 1787, 'hiding': 1788, 'believed': 1789, 'sailing': 1790, 'father': 1791, 'watched': 1792, 'sails': 1793, 'slack': 1794, 'heartaches': 1795, 'scars': 1796, 'closing': 1797, 'dreamed': 1798, 'chills': 1799, 'tonights': 1800, 'musics': 1801, 'teaser': 1802, 'circle': 1803, 'scar': 1804, 'violin': 1805, 'beyond': 1806, 'spread': 1807, 'mountains': 1808, 'forests': 1809, 'wing': 1810, 'limit': 1811, 'guiding': 1812, 'calls': 1813, 'afar': 1814, 'prepared': 1815, 'liberty': 1816, 'escuchar': 1817, 'una': 1818, 'un': 1819, 'se': 1820, 'el': 1821, 'hoy': 1822, 'depressed': 1823, 'bumble': 1824, 'bee': 1825, 'flower': 1826, 'lazy': 1827, 'haze': 1828, 'rustling': 1829, 'trapped': 1830, 'awaited': 1831, 'twelve': 1832, 'loneliness': 1833, 'happen': 1834, 'bitter': 1835, 'skies': 1836, 'swimming': 1837, 'champagne': 1838, 'arrives': 1839, 'okay': 1840, 'dragging': 1841, 'praying': 1842, 'compassion': 1843, 'begging': 1844, 'driftwood': 1845, 'flow': 1846, 'misfortune': 1847, 'las': 1848, 'vegas': 1849, 'burden': 1850, 'weighed': 1851, 'machine': 1852, 'beast': 1853, 'simple': 1854, 'revelation': 1855, 'spreading': 1856, 'irresistible': 1857, 'creature': 1858, 'blend': 1859, 'glamor': 1860, 'crowded': 1861, 'chances': 1862, 'pot': 1863, 'hungry': 1864, 'shopping': 1865, 'fairy': 1866, 'tale': 1867, 'mile': 1868, 'beauty': 1869, 'healing': 1870, 'farce': 1871, 'ancient': 1872, 'valley': 1873, 'grand': 1874, 'intrusion': 1875, 'explanation': 1876, 'hanging': 1877, 'homes': 1878, 'wellplanned': 1879, 'wise': 1880, 'expecting': 1881, 'surprises': 1882, 'buses': 1883, 'starin': 1884, 'outward': 1885, 'taught': 1886, 'complain': 1887, 'photograph': 1888, 'ok': 1889, 'release': 1890, 'excite': 1891, 'pleading': 1892, 'stage': 1893, 'success': 1894, 'arrive': 1895, 'reading': 1896, 'bet': 1897, 'beating': 1898, 'jungle': 1899, 'funky': 1900, 'hang': 1901, 'fingertips': 1902, 'compared': 1903, 'nightmare': 1904, 'memries': 1905, 'jealous': 1906, 'overturned': 1907, 'sharing': 1908, 'devotion': 1909, 'sensible': 1910, 'spring': 1911, 'given': 1912, 'dreary': 1913, 'brighter': 1914, 'enjoy': 1915, 'ahh': 1916, 'kissing': 1917, 'angry': 1918, 'bell': 1919, 'bill': 1920, 'caviar': 1921, 'cobweb': 1922, 'hammer': 1923, 'doublecross': 1924, 'deals': 1925, 'lake': 1926, 'climbing': 1927, 'football': 1928, 'acting': 1929, 'mess': 1930, 'fork': 1931, 'pan': 1932, 'ad': 1933, 'heavens': 1934, 'difference': 1935, 'laah': 1936, 'worn': 1937, 'sincerely': 1938, 'reflections': 1939, 'cheeks': 1940, 'x4': 1941, 'catches': 1942, 'row': 1943, 'often': 1944, 'bore': 1945, 'exactly': 1946, 'breakfast': 1947, 'begin': 1948, 'realize': 1949, 'herself': 1950, 'philosophy': 1951, 'seine': 1952, 'remain': 1953, 'age': 1954, 'tourist': 1955, 'jam': 1956, 'notre': 1957, 'restaurants': 1958, 'croissants': 1959, 'bank': 1960, 'harmony': 1961, 'female': 1962, 'saddle': 1963, 'sunset': 1964, 'fashioned': 1965, 'meek': 1966, 'wholl': 1967, 'headline': 1968, 'impatiently': 1969, 'understood': 1970, 'bought': 1971, 'banner': 1972, 'toes': 1973, 'balloon': 1974, 'wrapped': 1975, 'cocoon': 1976, 'eternal': 1977, 'harm': 1978, 'bluest': 1979, 'schoolbag': 1980, 'waving': 1981, 'absentminded': 1982, 'guilt': 1983, 'freeze': 1984, 'tricks': 1985, 'moneys': 1986, 'dazing': 1987, 'waking': 1988, 'stirring': 1989, 'pale': 1990, 'grip': 1991, 'december': 1992, 'march': 1993, 'rumble': 1994, 'thunder': 1995, 'sidewalks': 1996, 'ahah': 1997, 'giant': 1998, 'dynamo': 1999, 'folks': 2000, 'scattered': 2001, 'laughed': 2002, 'cos': 2003, 'began': 2004, 'disguise': 2005, 'toy': 2006, 'eight': 2007, 'station': 2008, 'due': 2009, 'top': 2010, 'lit': 2011, 'rule': 2012, 'frame': 2013, 'stopped': 2014, 'food': 2015, 'french': 2016, 'pushin': 2017, 'bashful': 2018, 'sub': 2019, 'luna': 2020, 'saltamus': 2021, 'dare': 2022, 'finding': 2023, 'violence': 2024, 'loser': 2025, 'gods': 2026, 'judges': 2027, 'decide': 2028, 'alleys': 2029, 'wander': 2030, 'paradise': 2031, 'wife': 2032, 'sounded': 2033, 'meeting': 2034, 'tighter': 2035, 'tame': 2036, 'repeating': 2037, 'newsstand': 2038, 'fellas': 2039, 'neither': 2040, 'nor': 2041, 'sex': 2042, 'humble': 2043, 'calmly': 2044, 'crossroadsno': 2045, 'trance': 2046, 'lonesome': 2047, 'parts': 2048, 'ticket': 2049, 'existence': 2050, 'locked': 2051, 'mystery': 2052, 'problem': 2053, 'someones': 2054, 'twosome': 2055, 'fit': 2056, 'wheels': 2057, 'blueeyed': 2058, 'connie': 2059, 'walker': 2060, 'model': 2061, 'magnificat': 2062, 'secula': 2063, 'et': 2064, 'race': 2065, 'catcher': 2066, 'rye': 2067, 'ohh': 2068, 'hmmm': 2069, 'pray': 2070, 'seven': 2071, 'iberian': 2072, 'purpose': 2073, 'flee': 2074, 'moons': 2075, 'fadda': 2076, 'camp': 2077, 'granada': 2078, 'fudda': 2079, 'bear': 2080, 'garbage': 2081, 'adam': 2082, 'pipe': 2083, 'hype': 2084, 'naked': 2085, 'wicked': 2086, 'spent': 2087, 'blew': 2088, 'wire': 2089, 'pizza': 2090, 'shoe': 2091, 'swear': 2092, 'seat': 2093, 'dad': 2094, 'pansy': 2095, 'brothers': 2096, 'parachute': 2097, 'fries': 2098, 'opening': 2099, 'towards': 2100, 'f1': 2101, 'tennis': 2102, 'actor': 2103, 'hi': 2104, 'boat': 2105, 'balls': 2106, 'cost': 2107, 'drinking': 2108, 'kid': 2109, 'dope': 2110, 'cruel': 2111, 'platter': 2112, 'faked': 2113, 'favorite': 2114, 'daydreamer': 2115, 'jaw': 2116, 'doorstep': 2117, 'california': 2118, 'burst': 2119, 'bleed': 2120, 'whiskey': 2121, 'cuts': 2122, 'deepest': 2123, 'ones': 2124, 'uninvited': 2125, 'hoped': 2126, 'reminded': 2127, 'bestselling': 2128, 'section': 2129, 'poor': 2130, 'babay': 2131, 'kitchen': 2132, 'dumplin': 2133, 'wet': 2134, 'mail': 2135, 'hound': 2136, 'feets': 2137, 'singin': 2138, 'toss': 2139, 'callin': 2140, 'bitchin': 2141, 'pills': 2142, 'rude': 2143, 'idea': 2144, 'ol': 2145, 'elses': 2146, 'agreed': 2147, 'jones': 2148, 'dts': 2149, 'guarantees': 2150, 'major': 2151, 'minor': 2152, 'microphone': 2153, 'lip': 2154, 'booze': 2155, 'threw': 2156, 'bass': 2157, 'ran': 2158, 'asleep': 2159, 'sir': 2160, 'suckin': 2161, 'moonshine': 2162, 'clothesline': 2163, 'cha': 2164, 'chicks': 2165, 'chain': 2166, 'drinkin': 2167, 'square': 2168, 'gin': 2169, 'nahnah': 2170, 'undone': 2171, 'lightnin': 2172, 'tenderness': 2173, 'slip': 2174, 'jury': 2175, 'swinging': 2176, 'highest': 2177, 'erase': 2178, 'ignorance': 2179, 'rocker': 2180, 'habit': 2181, 'shotgun': 2182, 'screams': 2183, 'fake': 2184, 'catchin': 2185, 'shootin': 2186, 'dragon': 2187, 'wagon': 2188, 'hadnt': 2189, 'meltdown': 2190, 'numbs': 2191, 'battle': 2192, 'nature': 2193, 'eyed': 2194, 'genocide': 2195, 'crystal': 2196, 'sack': 2197, 'skinny': 2198, 'legs': 2199, 'buttered': 2200, 'whatcha': 2201, 'popcorn': 2202, 'cheese': 2203, 'cake': 2204, 'acomin': 2205, 'agrin': 2206, 'level': 2207, 'universe': 2208, 'pissin': 2209, 'pinball': 2210, 'wizard': 2211, 'tilt': 2212, 'bozo': 2213, 'trekkie': 2214, 'warp': 2215, 'julio': 2216, 'afrokeluchie': 2217, 'countin': 2218, 'boots': 2219, 'rider': 2220, 'godiva': 2221, 'mon': 2222, 'ami': 2223, 'sweeter': 2224, 'honeybee': 2225, 'rubs': 2226, 'liar': 2227, 'sold': 2228, 'disease': 2229, 'kansas': 2230, 'fires': 2231, 'flamingo': 2232, 'score': 2233, 'mountain': 2234, 'piled': 2235, 'lame': 2236, 'concubine': 2237, 'thieves': 2238, 'tasteless': 2239, 'champ': 2240, 'shady': 2241, 'cop': 2242, 'suit': 2243, 'womens': 2244, 'liberation': 2245, 'goodlike': 2246, 'aura': 2247, 'smell': 2248, 'flora': 2249, 'doora': 2250, 'permanent': 2251, 'cut': 2252, 'kite': 2253, 'ffff': 2254, 'twas': 2255, 'cord': 2256, 'rose': 2257, 'talkabubi': 2258, 'dedumdudidudi': 2259, 'lizzy': 2260, 'rats': 2261, 'cellar': 2262, 'skins': 2263, 'turnin': 2264, 'connection': 2265, 'cozy': 2266, 'fucked': 2267, 'dem': 2268, 'unlock': 2269, 'lemme': 2270, 'inviting': 2271, 'touched': 2272, 'cheek': 2273, 'yea': 2274, 'rub': 2275, 'takin': 2276, 'spinnin': 2277, 'insignus': 2278, 'wither': 2279, 'sadly': 2280, 'borrowed': 2281, 'sedona': 2282, 'blowin': 2283, 'butt': 2284, 'sayin': 2285, 'guillotine': 2286, 'load': 2287, 'lived': 2288, 'tryin': 2289, 'tape': 2290, 'rollin': 2291, 'prayed': 2292, 'roared': 2293, 'keeper': 2294, 'deeper': 2295, 'karma': 2296, 'rabbit': 2297, 'saturday': 2298, 'marchin': 2299, 'yow': 2300, 'buckle': 2301, 'straightjack': 2302, 'jellybean': 2303, 'thorazine': 2304, 'transcendental': 2305, 'lag': 2306, 'sanity': 2307, 'pifiata': 2308, 'punch': 2309, 'pigeonhole': 2310, 'shave': 2311, 'hare': 2312, 'krishna': 2313, 'tattoo': 2314, 'dot': 2315, 'prozac': 2316, 'fixer': 2317, 'brick': 2318, 'leads': 2319, 'x3': 2320, 'bites': 2321, 'howlin': 2322, 'leap': 2323, 'guide': 2324, 'triathlon': 2325, 'aleilujah': 2326, 'chromosone': 2327, 'superdome': 2328, 'handsome': 2329, 'lane': 2330, 'heave': 2331, 'goa': 2332, 'trippin': 2333, 'salty': 2334, 'highyeah': 2335, 'girltheres': 2336, 'pissed': 2337, 'darlin': 2338, 'legendary': 2339, 'scuse': 2340, 'position': 2341, 'missionary': 2342, 'boo': 2343, 'yah': 2344, 'sang': 2345, 'wandering': 2346, 'seats': 2347, 'alternate': 2348, 'asked': 2349, 'drifting': 2350, 'problems': 2351, 'storybook': 2352, 'prince': 2353, 'naive': 2354, 'dooo': 2355, 'either': 2356, 'happiness': 2357, 'greed': 2358, 'holds': 2359, 'squeezes': 2360, 'velvet': 2361, 'shimmer': 2362, 'float': 2363, 'creep': 2364, 'entitled': 2365, 'heel': 2366, 'christ': 2367, 'tedious': 2368, 'cutting': 2369, 'tie': 2370, 'counting': 2371, 'unright': 2372, 'neighbours': 2373, 'burying': 2374, 'shouting': 2375, 'hollow': 2376, 'suffer': 2377, 'sell': 2378, 'bargain': 2379, 'smart': 2380, 'aching': 2381, 'linger': 2382, 'deeply': 2383, 'thorough': 2384, 'harbor': 2385, 'deck': 2386, 'tiny': 2387, 'rigid': 2388, 'restrained': 2389, 'enchained': 2390, 'shoulder': 2391, 'rely': 2392, 'patch': 2393, 'tumbling': 2394, 'handle': 2395, 'disapeared': 2396, 'stunned': 2397, 'lifes': 2398, 'pavement': 2399, 'acted': 2400, 'couple': 2401, 'snowbird': 2402, 'wound': 2403, 'shared': 2404, 'teasing': 2405, 'chick': 2406, 'cute': 2407, 'hollywood': 2408, 'charming': 2409, 'groovy': 2410, 'expectations': 2411, 'fedup': 2412, 'acquisitions': 2413, 'practising': 2414, 'improve': 2415, 'everytime': 2416, 'exist': 2417, 'listened': 2418, 'horizons': 2419, 'strangely': 2420, 'starry': 2421, 'firelight': 2422, 'humming': 2423, 'strumming': 2424, 'guitar': 2425, 'bugle': 2426, 'eternally': 2427, 'ashamed': 2428, 'roar': 2429, 'guns': 2430, 'cannons': 2431, 'rifle': 2432, 'frightful': 2433, 'crossed': 2434, 'rio': 2435, 'grande': 2436, 'puedes': 2437, 'recuerda': 2438, 'tiempo': 2439, 'estrellas': 2440, 'noche': 2441, 'alla': 2442, 'lumbre': 2443, 'azul': 2444, 'tarareabas': 2445, 'cancion': 2446, 'ese': 2447, 'suave': 2448, 'guitarrear': 2449, 'podia': 2450, 'esos': 2451, 'tambores': 2452, 'sordo': 2453, 'redoblar': 2454, 'acercaban': 2455, 'mas': 2456, 'momento': 2457, 'pasaba': 2458, 'parecia': 2459, 'eternidad': 2460, 'senti': 2461, 'temor': 2462, 'vida': 2463, 'juventud': 2464, 'nadie': 2465, 'pensaba': 2466, 'morir': 2467, 'siento': 2468, 'verguenza': 2469, 'al': 2470, 'confesar': 2471, 'tuve': 2472, 'ganas': 2473, 'llorar': 2474, 'vejez': 2475, 'llego': 2476, 'ella': 2477, 'paz': 2478, 'logramos': 2479, 'disfrutar': 2480, 'durmio': 2481, 'tambor': 2482, 'paraciera': 2483, 'fue': 2484, 'ayer': 2485, 'vivimos': 2486, 'tus': 2487, 'ojos': 2488, 'veo': 2489, 'aun': 2490, 'aquel': 2491, 'orgullo': 2492, 'refleja': 2493, 'valor': 2494, 'repeata': 2495, 'travelling': 2496, 'sip': 2497, 'railroad': 2498, 'bum': 2499, 'outdoors': 2500, 'chew': 2501, 'straw': 2502, 'glittring': 2503, 'bend': 2504, 'milky': 2505, 'raindrops': 2506, 'pane': 2507, 'stillness': 2508, 'silently': 2509, 'drifts': 2510, 'curtins': 2511, 'backs': 2512, 'echoes': 2513, 'warms': 2514, 't': 2515, 'v': 2516, 'gaze': 2517, 'gentleness': 2518, 'rubbing': 2519, 'patient': 2520, 'consolation': 2521, 'hmm': 2522, 'miracle': 2523, 'lingered': 2524, 'autumns': 2525, 'chilly': 2526, 'drove': 2527, 'airport': 2528, 'surfing': 2529, 'enjoying': 2530, 'card': 2531, 'greeting': 2532, 'descend': 2533, 'fireworks': 2534, 'unlike': 2535, 'nows': 2536, 'brave': 2537, 'thrives': 2538, 'ashes': 2539, 'clay': 2540, 'astray': 2541, 'confetti': 2542, 'decade': 2543, 'eightynine': 2544, 'benny': 2545, 'fighter': 2546, 'trend': 2547, 'personal': 2548, 'tend': 2549, 'admire': 2550, 'courageous': 2551, 'constantly': 2552, 'speaks': 2553, 'pats': 2554, 'exert': 2555, 'strands': 2556, 'destined': 2557, 'bustin': 2558, 'dam': 2559, 'shoreline': 2560, 'carried': 2561, 'trade': 2562, 'favours': 2563, 'spun': 2564, 'wheel': 2565, 'scored': 2566, 'banks': 2567, 'cent': 2568, 'blessed': 2569, 'hahahad': 2570, 'sam': 2571, 'chauffeur': 2572, 'annie': 2573, 'jerry': 2574, 'works': 2575, 'sue': 2576, 'weekends': 2577, 'romantic': 2578, 'thrills': 2579, 'stick': 2580, 'rid': 2581, 'doggone': 2582, 'type': 2583, 'vibrant': 2584, 'electrified': 2585, 'contribution': 2586, 'melting': 2587, 'feed': 2588, 'worship': 2589, 'homage': 2590, 'dazzled': 2591, 'grabbing': 2592, 'pieces': 2593, 'fatted': 2594, 'calf': 2595, 'parks': 2596, 'squares': 2597, 'destination': 2598, 'poet': 2599, 'acquainted': 2600, 'restrains': 2601, 'shallow': 2602, 'alley': 2603, 'urging': 2604, 'defeat': 2605, 'illusion': 2606, 'disturbance': 2607, 'wistful': 2608, 'seduce': 2609, 'dies': 2610, 'reservation': 2611, 'appointments': 2612, 'busy': 2613, 'temper': 2614, 'refuge': 2615, 'puppet': 2616, 'refugee': 2617, 'manage': 2618, 'possibly': 2619, 'glasgow': 2620, 'trooppperfeeling': 2621, 'moments': 2622, 'trooppperlike': 2623, 'supper': 2624, 'troopper': 2625, 'watchin': 2626, 'mistaking': 2627, 'shout': 2628, 'tomtom': 2629, 'gorillas': 2630, 'waddle': 2631, 'carefree': 2632, 'rooms': 2633, 'potential': 2634, 'threat': 2635, 'possessive': 2636, 'vice': 2637, 'shooting': 2638, 'duck': 2639, 'smalltalk': 2640, 'grownup': 2641, 'unsatisfied': 2642, 'skip': 2643, 'scarce': 2644, 'incomprehensible': 2645, 'buried': 2646, 'treated': 2647, 'presents': 2648, 'hat': 2649, 'hated': 2650, 'windows': 2651, 'yard': 2652, 'whiter': 2653, 'decided': 2654, 'traffic': 2655, 'lighter': 2656, 'physician': 2657, 'discovery': 2658, 'backed': 2659, 'claiming': 2660, 'longevity': 2661, 'factor': 2662, 'dynamite': 2663, 'drug': 2664, 'count': 2665, 'fifty': 2666, 'ninetyfive': 2667, 'pays': 2668, 'cigar': 2669, 'belly': 2670, 'lobster': 2671, 'vintage': 2672, 'peer': 2673, 'servants': 2674, 'mansion': 2675, 'quarreled': 2676, 'jekyll': 2677, 'hyde': 2678, 'toyed': 2679, 'dr': 2680, 'freud': 2681, 'applies': 2682, 'split': 2683, 'identity': 2684, 'vain': 2685, 'dingdong': 2686, 'marching': 2687, 'houston': 2688, 'gamble': 2689, 'sheriff': 2690, 'arrest': 2691, 'wealthy': 2692, 'monaco': 2693, 'voyager': 2694, 'settler': 2695, 'goal': 2696, 'explore': 2697, 'country': 2698, 'journey': 2699, 'ripples': 2700, 'surface': 2701, 'seagulls': 2702, 'hover': 2703, 'follows': 2704, 'phrase': 2705, 'separate': 2706, 'longest': 2707, 'sneak': 2708, 'loudest': 2709, 'record': 2710, 'pa': 2711, 'fred': 2712, 'blushing': 2713, 'suppose': 2714, 'mornings': 2715, 'neverending': 2716, 'uncertain': 2717, 'feller': 2718, 'respect': 2719, 'darker': 2720, 'impending': 2721, 'doom': 2722, 'wary': 2723, 'minister': 2724, 'flirty': 2725, 'advantage': 2726, 'shook': 2727, 'casual': 2728, 'stroll': 2729, 'unable': 2730, 'helpless': 2731, 'somethimes': 2732, 'cling': 2733, 'desperate': 2734, 'daydreams': 2735, 'suffering': 2736, 'passed': 2737, 'romances': 2738, 'robbing': 2739, 'rightful': 2740, 'dealt': 2741, 'concealed': 2742, 'stubborn': 2743, 'misconceiving': 2744, 'strolling': 2745, 'elysee': 2746, 'cafe': 2747, 'politics': 2748, 'mona': 2749, 'lisa': 2750, 'sat': 2751, 'eiffel': 2752, 'tower': 2753, 'flowerpower': 2754, 'harry': 2755, 'alway': 2756, 'matrimony': 2757, 'desert': 2758, 'bandana': 2759, 'showdown': 2760, 'bold': 2761, 'vacquero': 2762, 'disappearing': 2763, 'unchained': 2764, 'cowboys': 2765, 'senorita': 2766, 'harshly': 2767, 'cavaliero': 2768, 'bending': 2769, 'digging': 2770, 'hotel': 2771, 'mistaken': 2772, 'gentle': 2773, 'yours': 2774, 'rocknroll': 2775, 'cheer': 2776, 'poster': 2777, 'legend': 2778, 'bandstand': 2779, 'dreamland': 2780, 'clapping': 2781, 'jumping': 2782, 'screaming': 2783, 'towering': 2784, 'seriously': 2785, 'droning': 2786, 'clever': 2787, 'striped': 2788, 'pyjamas': 2789, 'trousers': 2790, 'carries': 2791, 'dangerously': 2792, 'indifferent': 2793, 'rambles': 2794, 'zoo': 2795, 'coconuts': 2796, 'calm': 2797, 'surge': 2798, 'sadness': 2799, 'entering': 2800, 'barely': 2801, 'odd': 2802, 'melancholy': 2803, 'adventures': 2804, 'planned': 2805, 'sulk': 2806, 'signs': 2807, 'drawing': 2808, 'storm': 2809, 'approaching': 2810, 'blinding': 2811, 'sign': 2812, 'points': 2813, 'forced': 2814, 'chose': 2815, 'haunt': 2816, 'impatience': 2817, 'creeping': 2818, 'spine': 2819, 'elusive': 2820, 'glitter': 2821, 'litter': 2822, 'remembering': 2823, 'worry': 2824, 'waste': 2825, 'baba': 2826, 'probably': 2827, 'talent': 2828, 'listens': 2829, 'grateful': 2830, 'dancer': 2831, 'wondered': 2832, 'golden': 2833, 'seek': 2834, 'mild': 2835, 'fairytales': 2836, 'ear': 2837, 'sympathy': 2838, 'dove': 2839, 'editorial': 2840, 'frowned': 2841, 'desk': 2842, 'heaps': 2843, 'signed': 2844, 'bunch': 2845, 'rained': 2846, 'cigarette': 2847, 'noticed': 2848, 'exception': 2849, 'routine': 2850, 'finished': 2851, 'undoubtedly': 2852, 'oclock': 2853, 'chinese': 2854, 'episode': 2855, 'dallas': 2856, 'latest': 2857, 'marilyn': 2858, 'yawned': 2859, 'cuddled': 2860, 'rattling': 2861, 'roof': 2862, 'throne': 2863, 'openhearted': 2864, 'invited': 2865, 'excited': 2866, 'valleys': 2867, 'plains': 2868, 'struggled': 2869, 'north': 2870, 'parish': 2871, 'priest': 2872, 'longed': 2873, 'seduced': 2874, 'weapon': 2875, 'doorbell': 2876, 'panic': 2877, 'ominously': 2878, 'numb': 2879, 'frozen': 2880, 'dearly': 2881, 'paintings': 2882, 'furniture': 2883, 'signals': 2884, 'sounding': 2885, 'tries': 2886, 'doorknob': 2887, 'stupidly': 2888, 'impatient': 2889, 'meetings': 2890, 'witnessed': 2891, 'anguish': 2892, 'humiliation': 2893, 'unexpected': 2894, 'hurting': 2895, 'cards': 2896, 'ace': 2897, 'victory': 2898, 'belonged': 2899, 'figured': 2900, 'fence': 2901, 'ice': 2902, 'loses': 2903, 'obeyed': 2904, 'abide': 2905, 'spectators': 2906, 'apologize': 2907, 'tense': 2908, 'selfconfidence': 2909, 'beware': 2910, 'horrible': 2911, 'gardens': 2912, 'beaches': 2913, 'bluebirds': 2914, 'mellow': 2915, 'shade': 2916, 'trivial': 2917, 'occupation': 2918, 'cleaned': 2919, 'platforms': 2920, 'railway': 2921, 'wished': 2922, 'matrimonial': 2923, 'advertising': 2924, 'ages': 2925, 'whiting': 2926, 'husky': 2927, 'amazed': 2928, 'purest': 2929, 'streak': 2930, 'hed': 2931, 'struck': 2932, 'thrilling': 2933, 'mutually': 2934, 'fulfilling': 2935, 'resistance': 2936, 'troubles': 2937, 'strategy': 2938, 'anger': 2939, 'persuade': 2940, 'definite': 2941, 'flattered': 2942, 'expectation': 2943, 'spark': 2944, 'offer': 2945, 'master': 2946, 'lightning': 2947, 'danger': 2948, 'napoleon': 2949, 'similiar': 2950, 'shelf': 2951, 'stronger': 2952, 'spacemen': 2953, 'toast': 2954, 'passage': 2955, 'instinctively': 2956, 'summers': 2957, 'treks': 2958, 'slightly': 2959, 'dignified': 2960, 'striving': 2961, 'generous': 2962, 'clearheaded': 2963, 'openeyed': 2964, 'untried': 2965, 'screamed': 2966, 'blush': 2967, 'petrified': 2968, 'leaning': 2969, 'laws': 2970, 'geometry': 2971, 'lean': 2972, 'quickly': 2973, 'traces': 2974, 'bahamas': 2975, 'petty': 2976, 'dramas': 2977, 'confusion': 2978, 'unwanted': 2979, 'entered': 2980, 'view': 2981, 'mesmerized': 2982, 'importantly': 2983, 'naturally': 2984, 'simon': 2985, 'garfunkel': 2986, 'romeo': 2987, 'juliet': 2988, 'pair': 2989, 'tragical': 2990, 'overcome': 2991, 'blocks': 2992, 'respond': 2993, 'glittering': 2994, 'sparkling': 2995, 'fulfill': 2996, 'texture': 2997, 'brightly': 2998, 'omnes': 2999, 'gentes': 3000, 'anima': 3001, 'mea': 3002, 'salvation': 3003, 'mankind': 3004, 'brotherhood': 3005, 'substitute': 3006, 'burned': 3007, 'candlse': 3008, 'quench': 3009, 'thirst': 3010, 'stressed': 3011, 'ouuh': 3012, 'ooooooh': 3013, 'jailer': 3014, 'host': 3015, 'hides': 3016, 'agony': 3017, 'earn': 3018, 'consequences': 3019, 'colours': 3020, 'ohhh': 3021, 'looser': 3022, 'invite': 3023, 'normal': 3024, 'ghost': 3025, 'steps': 3026, 'bribe': 3027, 'essence': 3028, 'amends': 3029, 'romancing': 3030, 'fathers': 3031, 'page': 3032, 'sinner': 3033, 'hustle': 3034, 'monster': 3035, 'gatekeeper': 3036, 'glimmer': 3037, 'height': 3038, 'disclosure': 3039, 'flair': 3040, 'swoon': 3041, 'prisoner': 3042, 'entertaining': 3043, 'raining': 3044, 'hiking': 3045, 'spivy': 3046, 'developed': 3047, 'poison': 3048, 'ivy': 3049, 'remeber': 3050, 'leonard': 3051, 'skinner': 3052, 'ptomaine': 3053, 'poisoning': 3054, 'counslers': 3055, 'waiters': 3056, 'alligators': 3057, 'coach': 3058, 'sissies': 3059, 'reads': 3060, 'uylesses': 3061, 'scare': 3062, 'bunk': 3063, 'mate': 3064, 'malaria': 3065, 'jeffery': 3066, 'hardy': 3067, 'organize': 3068, 'forest': 3069, 'eaten': 3070, 'dearest': 3071, 'hows': 3072, 'brudda': 3073, 'aunt': 3074, 'bertha': 3075, 'hailing': 3076, 'gals': 3077, 'base': 3078, 'bedda': 3079, 'kindly': 3080, 'disregard': 3081, 'bushes': 3082, 'motherfuckers': 3083, 'wash': 3084, 'gangsters': 3085, 'whered': 3086, 'motherfucker': 3087, 'gunshots': 3088, 'basement': 3089, 'fooled': 3090, 'hehehe': 3091, 'diapers': 3092, 'stink': 3093, 'shittin': 3094, 'motherfuckin': 3095, 'untouchable': 3096, 'whooo': 3097, 'hoo': 3098, 'cindy': 3099, 'scott': 3100, 'newleyweds': 3101, 'whoopeedoo': 3102, 'guyright': 3103, 'cryyy': 3104, 'reds': 3105, 'pinks': 3106, 'suurre': 3107, 'looove': 3108, 'punched': 3109, 'plenty': 3110, 'overnight': 3111, 'mailed': 3112, 'laced': 3113, 'lambasted': 3114, 'packed': 3115, 'sparked': 3116, 'bows': 3117, 'minutes': 3118, 'backgammon': 3119, 'spaceded': 3120, 'louies': 3121, 'hysterically': 3122, 'moonwalk': 3123, 'tripped': 3124, 'toaster': 3125, 'beak': 3126, 'eraseded': 3127, 'fried': 3128, 'bathtub': 3129, 'wanting': 3130, 'pepperoni': 3131, 'delivery': 3132, 'handed': 3133, 'ordered': 3134, 'baked': 3135, 'dick': 3136, 'beer': 3137, 'charley': 3138, 'horses': 3139, 'shorts': 3140, 'movies': 3141, 'wear': 3142, 'yankee': 3143, 'piss': 3144, 'toilet': 3145, 'stoned': 3146, 'jacket': 3147, 'pussy': 3148, 'douchebag': 3149, 'gate': 3150, 'pimple': 3151, 'sisters': 3152, 'stereo': 3153, 'performed': 3154, 'sandler': 3155, 'frank': 3156, 'randi': 3157, 'transcribed': 3158, 'bat': 3159, 'bottom': 3160, '6th': 3161, 'inning': 3162, 'league': 3163, 'pitch': 3164, 'baseball': 3165, 'ringingball': 3166, 'skydiving': 3167, 'finnally': 3168, '40': 3169, 'm1': 3170, 'quit': 3171, 'ripcord': 3172, 'moomrr': 3173, 'opens': 3174, 'moow': 3175, 'thud': 3176, 'chicken': 3177, 'drivethru': 3178, 'realising': 3179, 'bag': 3180, 'moomoo': 3181, 'screeches': 3182, 'winning': 3183, 'prise': 3184, 'bellyflop': 3185, 'contest': 3186, 'realises': 3187, 'swim': 3188, 'splash': 3189, 'cheering': 3190, 'mrrmrr': 3191, 'underwater': 3192, 'classy': 3193, 'strip': 3194, 'notices': 3195, 'm2': 3196, 'obvious': 3197, '3': 3198, 'mark': 3199, 'angle': 3200, 'receives': 3201, 'finds': 3202, 'practical': 3203, 'rings': 3204, 'picks': 3205, 'reservations': 3206, 'fatty': 3207, 'slams': 3208, 'revenge': 3209, 'vehicle': 3210, 'mooooooooooooo': 3211, 'donnie': 3212, 'boats': 3213, 'celtics': 3214, 'lockeroom': 3215, '50': 3216, 'gs': 3217, 'stole': 3218, 'storage': 3219, 'parking': 3220, 'shitten': 3221, 'paintjob': 3222, 'license': 3223, 'bingo': 3224, 'buzzed': 3225, 'worrying': 3226, 'eventually': 3227, 'snowmen': 3228, 'castles': 3229, 'growin': 3230, 'six': 3231, 'spellin': 3232, 'dwellin': 3233, 'grows': 3234, 'couch': 3235, 'insist': 3236, 'bein': 3237, 'pothead': 3238, 'herb': 3239, 'reefer': 3240, 'hawaiian': 3241, 'already': 3242, 'vicious': 3243, 'asking': 3244, 'forgiveness': 3245, 'drift': 3246, 'crumbling': 3247, 'spinning': 3248, 'boils': 3249, 'strips': 3250, 'fighting': 3251, 'crazier': 3252, 'pacing': 3253, 'floors': 3254, 'soaking': 3255, 'dropper': 3256, 'subject': 3257, 'lends': 3258, 'shelter': 3259, 'plus': 3260, 'waits': 3261, 'describe': 3262, 'supposed': 3263, 'younger': 3264, 'typical': 3265, 'oceans': 3266, 'gravity': 3267, 'moves': 3268, 'brushing': 3269, 'groove': 3270, 'delicate': 3271, 'ego': 3272, 'bricks': 3273, 'pulls': 3274, 'excusing': 3275, 'intentions': 3276, 'pretendings': 3277, 'desperately': 3278, 'link': 3279, 'burnt': 3280, 'build': 3281, 'sweeping': 3282, 'fills': 3283, 'ache': 3284, 'settled': 3285, 'raised': 3286, 'compares': 3287, 'newspaper': 3288, 'boycott': 3289, 'pressure': 3290, 'refrain': 3291, 'hook': 3292, 'drown': 3293, 'aaaah': 3294, 'buns': 3295, 'shortening': 3296, 'skillet': 3297, 'tickle': 3298, 'hambone': 3299, 'whet': 3300, 'bake': 3301, 'sop': 3302, 'gravy': 3303, 'dish': 3304, 'menu': 3305, 'dew': 3306, 'bees': 3307, 'saving': 3308, 'lightin': 3309, 'candles': 3310, 'astral': 3311, 'drain': 3312, 'indian': 3313, 'net': 3314, 'rarely': 3315, 'vile': 3316, 'silver': 3317, 'cowboy': 3318, 'salt': 3319, 'brine': 3320, 'ordinary': 3321, 'kicks': 3322, 'complainin': 3323, 'poodles': 3324, 'humor': 3325, 'shrinker': 3326, 'diet': 3327, 'bubble': 3328, 'junk': 3329, 'bonds': 3330, 'stiff': 3331, 'dancin': 3332, 'yacht': 3333, 'muff': 3334, 'biff': 3335, 'pearls': 3336, 'swine': 3337, 'attitudes': 3338, 'bellyache': 3339, 'rags': 3340, 'riches': 3341, 'inheritance': 3342, 'gray': 3343, 'poupon': 3344, 'sling': 3345, 'cupid': 3346, 'chip': 3347, 'fantasize': 3348, 'libido': 3349, 'transistor': 3350, 'bbut': 3351, 'core': 3352, 'nouveau': 3353, 'riche': 3354, 'hypnotic': 3355, 'leash': 3356, 'badder': 3357, 'jonesin': 3358, 'rip': 3359, 'margarita': 3360, 'jail': 3361, 'electrica': 3362, 'guitars': 3363, 'cranked': 3364, 'gang': 3365, 'bangs': 3366, 'excuse': 3367, 'fangs': 3368, 'backseat': 3369, 'drugs': 3370, 'gas': 3371, 'buzz': 3372, 'odin': 3373, 'lawn': 3374, 'pardon': 3375, 'gangster': 3376, 'ankles': 3377, 'upgive': 3378, 'fantasies': 3379, 'speculate': 3380, 'slave': 3381, 'bait': 3382, 'fright': 3383, 'dwight': 3384, '56': 3385, 'cadillac': 3386, 'spare': 3387, 'tire': 3388, 'charge': 3389, 'account': 3390, 'classic': 3391, 'ghoul': 3392, 'liquor': 3393, 'fourfortyfour': 3394, 'mojo': 3395, 'whitford': 3396, 'pistol': 3397, 'graveyard': 3398, 'shoots': 3399, 'tombstone': 3400, 'bullets': 3401, 'tnt': 3402, 'dynomite': 3403, 'schoolboy': 3404, 'curly': 3405, 'lotta': 3406, 'janie': 3407, 'arrested': 3408, 'untrue': 3409, 'jacked': 3410, 'bitty': 3411, 'iou': 3412, 'bullet': 3413, 'believes': 3414, 'sleaze': 3415, 'cradle': 3416, 'robbin': 3417, 'ruby': 3418, 'desires': 3419, 'ohbefore': 3420, 'whatchor': 3421, 'receive': 3422, 'pocket': 3423, 'dreamt': 3424, 'covers': 3425, 'tendernessyeah': 3426, 'fo': 3427, 'bettin': 3428, 'tossin': 3429, 'jackis': 3430, 'lingerie': 3431, 'fax': 3432, 'penthouse': 3433, 'pauper': 3434, 'millionaire': 3435, 'talker': 3436, 'timin': 3437, 'stairway': 3438, 'sassafras': 3439, 'savin': 3440, 'teenage': 3441, 'friction': 3442, 'magazine': 3443, 'turnaround': 3444, 'rubbin': 3445, 'birddog': 3446, 'bareback': 3447, 'slap': 3448, 'quarrels': 3449, 'witchor': 3450, 'believin': 3451, 'kissim': 3452, 'paranoia': 3453, 'personfffwho': 3454, 'meyeaah': 3455, 'list': 3456, 'laughin': 3457, 'primal': 3458, 'repeats': 3459, 'paying': 3460, 'dues': 3461, 'although': 3462, 'floatin': 3463, 'knowin': 3464, 'fadin': 3465, 'paradin': 3466, 'wag': 3467, 'perpetual': 3468, 'bald': 3469, 'egg': 3470, 'eighteen': 3471, 'stuffs': 3472, 'barren': 3473, 'dank': 3474, '25': 3475, 'buildings': 3476, 'stunk': 3477, 'ahhh': 3478, 'remembered': 3479, 'barefoot': 3480, 'tattered': 3481, 'coattails': 3482, 'rat': 3483, 'scrap': 3484, 'plate': 3485, 'fable': 3486, 'unstable': 3487, 'behold': 3488, 'foe': 3489, 'nostradamus': 3490, 'predicted': 3491, 'moanin': 3492, 'atoning': 3493, 'sins': 3494, 'ridden': 3495, 'shuts': 3496, 'blade': 3497, 'loveliness': 3498, 'acallin': 3499, 'rockabye': 3500, 'nightingales': 3501, 'ascreamin': 3502, 'divorcee': 3503, 'repouise': 3504, 'teller': 3505, 'eyeballs': 3506, 'wrinkles': 3507, 'unless': 3508, 'leader': 3509, 'feedin': 3510, 'spoon': 3511, 'shack': 3512, 'dyin': 3513, 'draggin': 3514, 'gggget': 3515, 'oooooh': 3516, 'ooooh': 3517, 'below': 3518, 'snorted': 3519, 'bleas': 3520, 'betty': 3521, 'boop': 3522, 'droolin': 3523, 'buzzing': 3524, 'hive': 3525, 'hooky': 3526, 'stead': 3527, 'schoolin': 3528, 'thirteen': 3529, 'hookers': 3530, 'junior': 3531, 'achivers': 3532, 'bull': 3533, 'breathes': 3534, 'hellfire': 3535, 'sadie': 3536, 'pussn': 3537, 'smokes': 3538, 'barbed': 3539, 'diamonds': 3540, 'heartbreaker': 3541, 'cheat': 3542, 'glue': 3543, 'hooks': 3544, 'stains': 3545, 'ivorys': 3546, 'fallin': 3547, 'appart': 3548, 'seams': 3549, 'leaf': 3550, 'readin': 3551, 'gypsies': 3552, 'holiday': 3553, 'inns': 3554, 'lock': 3555, 'stalemate': 3556, 'jailbait': 3557, 'reviews': 3558, 'barroom': 3559, 'slidin': 3560, 'screamer': 3561, 'marriage': 3562, 'aces': 3563, 'writin': 3564, 'nineteen': 3565, 'seventy': 3566, 'starters': 3567, 'maxs': 3568, 'johnny': 3569, 'otoole': 3570, 'clive': 3571, 'davis': 3572, 'choir': 3573, 'fetal': 3574, 'vaccinate': 3575, 'scratch': 3576, 'calomine': 3577, 'soles': 3578, 'creakin': 3579, 'puerto': 3580, 'rican': 3581, 'ridin': 3582, 'axle': 3583, 'grease': 3584, 'coppin': 3585, 'justice': 3586, 'junkie': 3587, 'whore': 3588, 'foot': 3589, 'topaz': 3590, 'sazzafrazz': 3591, 'corporation': 3592, 'jellyroll': 3593, 'singles': 3594, 'programmed': 3595, 'ascap': 3596, 'bmi': 3597, 'japanese': 3598, 'boil': 3599, 'teas': 3600, 'royalties': 3601, 'dreamin': 3602, 'screamin': 3603, 'lands': 3604, 'sinkin': 3605, 'prophets': 3606, 'stinkin': 3607, 'san': 3608, 'andreas': 3609, 'richters': 3610, 'noblemen': 3611, 'ears': 3612, 'spoke': 3613, 'discouragin': 3614, 'hears': 3615, 'stilt': 3616, 'hilt': 3617, 'debris': 3618, 'showtime': 3619, 'oclocks': 3620, 'prone': 3621, 'snooze': 3622, 'shinning': 3623, 'aah': 3624, 'ram': 3625, 'somethin': 3626, 'den': 3627, 'sly': 3628, 'lucked': 3629, 'womans': 3630, 'suffered': 3631, 'lesso': 3632, 'cheated': 3633, 'granted': 3634, 'sudden': 3635, 'severe': 3636, 'bogus': 3637, 'knowed': 3638, 'wastin': 3639, 'cagey': 3640, 'spike': 3641, 'tude': 3642, 'fruits': 3643, 'cruisin': 3644, 'venus': 3645, 'mars': 3646, 'lovins': 3647, 'aaarbricka': 3648, 'braka': 3649, 'fiya': 3650, 'kraka': 3651, 'sis': 3652, 'boombah': 3653, 'bra': 3654, 'sharp': 3655, 'carpet': 3656, 'tack': 3657, 'box': 3658, 'moderate': 3659, 'binge': 3660, 'catastrophes': 3661, 'lunatic': 3662, 'fringe': 3663, 'gander': 3664, 'tit': 3665, 'tat': 3666, 'hoof': 3667, 'endowed': 3668, 'fannies': 3669, 'operation': 3670, 'slicker': 3671, 'claim': 3672, 'fame': 3673, 'slitty': 3674, 'licker': 3675, 'montego': 3676, 'skys': 3677, 'lordie': 3678, 'sedation': 3679, 'pin': 3680, 'kinky': 3681, 'excess': 3682, 'baggage': 3683, 'freight': 3684, 'cummin': 3685, 'cayman': 3686, 'brack': 3687, 'firm': 3688, 'obsession': 3689, 'discover': 3690, 'bing': 3691, 'lingo': 3692, 'deco': 3693, 'umbrella': 3694, 'kink': 3695, 'wrap': 3696, 'sheets': 3697, 'crayon': 3698, 'biblical': 3699, 'noticing': 3700, 'connected': 3701, 'reached': 3702, 'ponys': 3703, 'gushed': 3704, 'waters': 3705, 'hooved': 3706, 'fur': 3707, 'feathers': 3708, 'flew': 3709, 'exploding': 3710, 'tonne': 3711, 'blonde': 3712, 'suze': 3713, 'thirty': 3714, 'covered': 3715, 'courier': 3716, 'lank': 3717, 'youth': 3718, 'dededudidudu': 3719, 'rippin': 3720, 'throwin': 3721, 'babes': 3722, 'version': 3723, 'grape': 3724, 'vine': 3725, 'shufflin': 3726, 'tap': 3727, 'sloe': 3728, 'fizzy': 3729, 'runny': 3730, 'affection': 3731, 'complaining': 3732, 'insanin': 3733, 'rosy': 3734, 'soggy': 3735, 'adaisies': 3736, 'schools': 3737, 'crash': 3738, 'lookie': 3739, '99': 3740, 'fingertip': 3741, 'gentlemen': 3742, 'elephant': 3743, 'green': 3744, 'bells': 3745, 'burn': 3746, 'joes': 3747, 'solo': 3748, 'amused': 3749, 'purrs': 3750, 'blurs': 3751, 'navigate': 3752, 'chump': 3753, 'sumpn': 3754, 'protege': 3755, 'nuclear': 3756, 'darkside': 3757, 'somthin': 3758, 'dune': 3759, 'rockets': 3760, 'gspot': 3761, 'admit': 3762, 'outer': 3763, 'fireball': 3764, 'perry': 3765, 'werent': 3766, 'sixteen': 3767, 'cooler': 3768, 'coincidental': 3769, 'murder': 3770, 'constipation': 3771, 'wifes': 3772, 'aggravation': 3773, 'gotcha': 3774, 'cocaine': 3775, 'smoothy': 3776, 'lawyer': 3777, 'getcha': 3778, 'aknockin': 3779, 'lockin': 3780, 'direction': 3781, 'rearrange': 3782, 'hurdygurdy': 3783, 'yayaya': 3784, 'sleepy': 3785, 'fireflies': 3786, 'awaken': 3787, 'responsibility': 3788, 'fired': 3789, 'kneesyeah': 3790, 'sweaty': 3791, 'bones': 3792, 'grief': 3793, 'offered': 3794, 'gavem': 3795, 'touchin': 3796, 'hymn': 3797, 'oughta': 3798, 'trot': 3799, 'homely': 3800, 'starved': 3801, 'companionship': 3802, 'meyeah': 3803, 'skinniest': 3804, 'sting': 3805, 'hung': 3806, 'wettin': 3807, 'weight': 3808, 'lend': 3809, 'define': 3810, 'dime': 3811, 'spot': 3812, 'younothing': 3813, 'paved': 3814, 'circumstance': 3815, 'dress': 3816, 'jill': 3817, 'shoot': 3818, 'splittin': 3819, 'hairs': 3820, 'loo': 3821, 'rot': 3822, 'refined': 3823, 'neath': 3824, 'underground': 3825, 'playin': 3826, 'sleepin': 3827, 'stairs': 3828, 'downtowns': 3829, 'jesus': 3830, 'grutty': 3831, 'titty': 3832, 'foul': 3833, 'hussy': 3834, 'rust': 3835, 'peeled': 3836, 'demise': 3837, 'leopard': 3838, 'nosey': 3839, 'mend': 3840, 'choosy': 3841, 'floosy': 3842, 'further': 3843, 'enjoys': 3844, 'dollar': 3845, 'cyberotic': 3846, 'information': 3847, 'overload': 3848, 'digerotic': 3849, 'mass': 3850, 'appeal': 3851, 'flesh': 3852, 'tastes': 3853, 'grace': 3854, 'interface': 3855, 'megahertz': 3856, 'steel': 3857, 'planet': 3858, 'papa': 3859, 'survived': 3860, 'ordeal': 3861, 'disappears': 3862, 'synthesize': 3863, 'overrides': 3864, 'spins': 3865, 'web': 3866, 'bud': 3867, 'radioactive': 3868, 'thread': 3869, 'spiderweb': 3870, 'bangup': 3871, 'wherever': 3872, 'hangup': 3873, 'trash': 3874, 'rainbows': 3875, 'haystack': 3876, 'imperfections': 3877, 'rhymes': 3878, 'ought': 3879, 'wonderland': 3880, 'ate': 3881, 'mushroom': 3882, 'hatter': 3883, 'fffffi': 3884, 'booty': 3885, 'caterpillars': 3886, 'plea': 3887, 'hog': 3888, 'gent': 3889, 'pulled': 3890, 'shakin': 3891, 'month': 3892, 'eating': 3893, 'steppin': 3894, 'sweepin': 3895, 'tombs': 3896, 'paranoid': 3897, 'yups': 3898, 'hop': 3899, 'stores': 3900, 'cups': 3901, 'ea': 3902, 'incense': 3903, 'mixes': 3904, 'funk': 3905, 'perfume': 3906, 'yin': 3907, 'yang': 3908, 'unpredictable': 3909, 'vindaloo': 3910, 'sets': 3911, 'tantric': 3912, 'priestess': 3913, 'sweetest': 3914, '101': 3915, '102': 3916, 'giver': 3917, '97': 3918, '98': 3919, 'false': 3920, 'alarm': 3921, '105': 3922, 'trainits': 3923, 'awaycharliei': 3924, 'oaahh': 3925, 'cockroach': 3926, 'arm': 3927, 'terminal': 3928, 'uniqueness': 3929, 'egocentric': 3930, 'freakness': 3931, 'peter': 3932, 'motherload': 3933, 'honeythen': 3934, 'roses': 3935, 'hip': 3936, 'shaking': 3937, 'wobble': 3938, 'double': 3939, 'crossin': 3940, 'getchoo': 3941, 'attitude': 3942, 'spittle': 3943, 'awhat': 3944, 'powder': 3945, 'wolf': 3946, 'silvery': 3947, 'joeys': 3948, 'pavlos': 3949, 'salivate': 3950, 'himself': 3951, 'rattle': 3952, 'snake': 3953, 'mall': 3954, 'watchman': 3955, 'sash': 3956, 'kicking': 3957, 'lyin': 3958, 'eclipse': 3959, 'tips': 3960, 'aerosmith': 3961, 'thered': 3962, 'baited': 3963, 'blinded': 3964, 'ow': 3965, 'goodbyes': 3966, 'forgiven': 3967, 'knockin': 3968, 'anow': 3969, 'snuff': 3970, 'sneeze': 3971, 'wags': 3972, 'especially': 3973, 'rewind': 3974, 'england': 3975, 'clues': 3976, 'sams': 3977, 'loaded': 3978, 'billy': 3979, 'goat': 3980, 'raise': 3981, 'kinds': 3982, 'dose': 3983, 'radiation': 3984, 'barn': 3985, 'patronizin': 3986, 'oils': 3987, 'mexican': 3988, 'opec': 3989, 'faar': 3990, 'papadum': 3991, 'prayer': 3992, 'nevermind': 3993, 'anytime': 3994, 'bluer': 3995, 'wayayayayyeahah': 3996, 'yayayayayayayow': 3997, 'albuquerque': 3998, 'jerk': 3999, 'yeeeah': 4000, 'hoops': 4001, 'jumpin': 4002, 'lemon': 4003, 'martini': 4004, 'suits': 4005, 'psychodelisized': 4006, 'boneafide': 4007, 'promiscuity': 4008, 'extosee': 4009, 'kaleidoscope': 4010, 'laying': 4011, 'emerald': 4012, 'pillow': 4013, 'yeahyeah': 4014, 'mammy': 4015, 'lusted': 4016, 'busted': 4017, 'trusted': 4018, 'orphan': 4019, 'bleeds': 4020, 'mothers': 4021, 'pushers': 4022, 'shovers': 4023, 'sailor': 4024, 'hers': 4025, 'cunning': 4026, 'arunnin': 4027, 'makeyou': 4028, 'erottickle': 4029, 'masturbatin': 4030, 'noose': 4031, 'ups': 4032, 'birth': 4033, 'gones': 4034, 'bygones': 4035, 'prophesized': 4036, 'crucified': 4037, 'holes': 4038, 'gift': 4039, 'weights': 4040, 'heavy': 4041, 'lift': 4042, 'moolah': 4043, 'bolt': 4044, 'ons': 4045, 'quick': 4046, 'fix': 4047, 'skull': 4048, 'cap': 4049, 'dictionary': 4050, 'bootay': 4051, 'hotpants': 4052, 'hookah': 4053, 'knocked': 4054, 'hose': 4055, 'practise': 4056, 'peach': 4057, 'cooks': 4058, 'hidin': 4059, 'spoons': 4060, 'winkin': 4061, 'witches': 4062, 'ficitonary': 4063, 'springtime': 4064, 'folk': 4065, 'tables': 4066, 'fiddlers': 4067, 'fixed': 4068, 'however': 4069, 'sunday': 4070, 'except': 4071, 'tragedy': 4072, 'blindly': 4073, 'everone': 4074, 'spoken': 4075, 'sung': 4076, 'bug': 4077, 'college': 4078, 'stimulating': 4079, 'drive': 4080, 'roads': 4081, 'positions': 4082, 'shovel': 4083, 'broom': 4084, 'dial': 4085, 'telephone': 4086, 'insecure': 4087, 'obscure': 4088, 'remains': 4089, 'cure': 4090, 'tormented': 4091, 'torn': 4092, 'believing': 4093, 'messages': 4094, 'sending': 4095, 'pretending': 4096, 'cast': 4097, 'pressed': 4098, 'passes': 4099, 'whispers': 4100, 'fades': 4101, 'embrace': 4102, 'overflow': 4103, 'rivers': 4104, 'september': 4105, '1969': 4106, 'indians': 4107, 'uncaring': 4108, 'shareing': 4109, 'parents': 4110, 'innocence': 4111, 'shone': 4112, 'cottage': 4113, 'mortgage': 4114, 'strangers': 4115, 'discuss': 4116, 'filed': 4117, 'divorce': 4118, 'breaks': 4119, 'fiiled': 4120, 'forgetting': 4121, 'forgiving': 4122, 'protect': 4123, 'wiser': 4124, 'manufacture': 4125, 'troubled': 4126, 'weakness': 4127, 'discovered': 4128, 'sway': 4129, 'laundry': 4130, 'cook': 4131, 'listening': 4132, 'stalking': 4133, 'wore': 4134, 'depths': 4135, 'echo': 4136, 'less': 4137, 'prophet': 4138, 'potato': 4139, 'chips': 4140, 'joined': 4141, 'hips': 4142, 'zone': 4143, 'sacred': 4144, 'tills': 4145, 'daily': 4146, 'spirit': 4147, 'woken': 4148, 'demon': 4149, 'gates': 4150, 'soar': 4151, 'superstition': 4152, 'cup': 4153, 'unto': 4154, 'ourselves': 4155, 'puts': 4156, 'eternitys': 4157, 'throws': 4158, 'perfection': 4159}\n"
          ],
          "name": "stdout"
        }
      ]
    },
    {
      "cell_type": "code",
      "metadata": {
        "id": "LBnZrlSN4wh1"
      },
      "source": [
        "sequences=[]\n",
        "\n",
        "for line in corpus:\n",
        "  token_list = tokenizer.texts_to_sequences([line])[0]\n",
        "  for i in range(1,len(token_list)):\n",
        "    ngram_seq=token_list[:i+1]\n",
        "    sequences.append(ngram_seq)\n",
        "\n",
        "max_seq_len=max([len(seq) for seq in sequences])\n",
        "sequences = np.array(pad_sequences(sequences,maxlen=max_seq_len,padding='pre'))\n",
        "\n",
        "input_seq,labels=sequences[:,:-1],sequences[:,-1:]\n",
        "one_hot_labels=to_categorical(labels,num_classes=total_words)"
      ],
      "execution_count": 107,
      "outputs": []
    },
    {
      "cell_type": "code",
      "metadata": {
        "colab": {
          "base_uri": "https://localhost:8080/"
        },
        "id": "zPhtp5e5SdLw",
        "outputId": "75b49263-99e5-4191-b99b-6f9ba12f793d"
      },
      "source": [
        "model=Sequential()\n",
        "model.add(Embedding(total_words,64,input_length=max_seq_len-1))\n",
        "model.add(Bidirectional(LSTM(20)))\n",
        "model.add(Flatten())\n",
        "model.add(Dense(total_words,activation='softmax'))\n",
        "model.compile(optimizer=tf.keras.optimizers.Adam(lr=0.001),loss=tf.keras.losses.CategoricalCrossentropy(),metrics=['accuracy'])\n",
        "model.summary()"
      ],
      "execution_count": 108,
      "outputs": [
        {
          "output_type": "stream",
          "text": [
            "Model: \"sequential_5\"\n",
            "_________________________________________________________________\n",
            "Layer (type)                 Output Shape              Param #   \n",
            "=================================================================\n",
            "embedding_5 (Embedding)      (None, 19, 64)            266240    \n",
            "_________________________________________________________________\n",
            "bidirectional_2 (Bidirection (None, 40)                13600     \n",
            "_________________________________________________________________\n",
            "flatten_4 (Flatten)          (None, 40)                0         \n",
            "_________________________________________________________________\n",
            "dense_3 (Dense)              (None, 4160)              170560    \n",
            "=================================================================\n",
            "Total params: 450,400\n",
            "Trainable params: 450,400\n",
            "Non-trainable params: 0\n",
            "_________________________________________________________________\n"
          ],
          "name": "stdout"
        }
      ]
    },
    {
      "cell_type": "code",
      "metadata": {
        "colab": {
          "base_uri": "https://localhost:8080/"
        },
        "id": "KI0tiEVESgdf",
        "outputId": "2ab9c6b9-cf3d-4b86-805e-3dc60740aa7d"
      },
      "source": [
        "history=model.fit(input_seq,one_hot_labels,epochs=100,verbose=1)"
      ],
      "execution_count": 110,
      "outputs": [
        {
          "output_type": "stream",
          "text": [
            "Epoch 1/100\n",
            "1564/1564 [==============================] - 15s 10ms/step - loss: 5.6685 - accuracy: 0.0691\n",
            "Epoch 2/100\n",
            "1564/1564 [==============================] - 15s 10ms/step - loss: 5.5037 - accuracy: 0.0951\n",
            "Epoch 3/100\n",
            "1564/1564 [==============================] - 15s 10ms/step - loss: 5.3411 - accuracy: 0.1144\n",
            "Epoch 4/100\n",
            "1564/1564 [==============================] - 15s 9ms/step - loss: 5.1828 - accuracy: 0.1293\n",
            "Epoch 5/100\n",
            "1564/1564 [==============================] - 16s 10ms/step - loss: 5.0383 - accuracy: 0.1420\n",
            "Epoch 6/100\n",
            "1564/1564 [==============================] - 15s 10ms/step - loss: 4.8746 - accuracy: 0.1546\n",
            "Epoch 7/100\n",
            "1564/1564 [==============================] - 15s 10ms/step - loss: 4.7029 - accuracy: 0.1707\n",
            "Epoch 8/100\n",
            "1564/1564 [==============================] - 15s 9ms/step - loss: 4.5563 - accuracy: 0.1846\n",
            "Epoch 9/100\n",
            "1564/1564 [==============================] - 15s 9ms/step - loss: 4.4281 - accuracy: 0.1957\n",
            "Epoch 10/100\n",
            "1564/1564 [==============================] - 15s 10ms/step - loss: 4.3111 - accuracy: 0.2077\n",
            "Epoch 11/100\n",
            "1564/1564 [==============================] - 15s 10ms/step - loss: 4.2019 - accuracy: 0.2183\n",
            "Epoch 12/100\n",
            "1564/1564 [==============================] - 15s 10ms/step - loss: 4.1041 - accuracy: 0.2297\n",
            "Epoch 13/100\n",
            "1564/1564 [==============================] - 15s 10ms/step - loss: 4.0124 - accuracy: 0.2406\n",
            "Epoch 14/100\n",
            "1564/1564 [==============================] - 15s 10ms/step - loss: 3.9291 - accuracy: 0.2533\n",
            "Epoch 15/100\n",
            "1564/1564 [==============================] - 15s 10ms/step - loss: 3.8483 - accuracy: 0.2615\n",
            "Epoch 16/100\n",
            "1564/1564 [==============================] - 15s 10ms/step - loss: 3.7756 - accuracy: 0.2723\n",
            "Epoch 17/100\n",
            "1564/1564 [==============================] - 15s 10ms/step - loss: 3.7043 - accuracy: 0.2828\n",
            "Epoch 18/100\n",
            "1564/1564 [==============================] - 15s 10ms/step - loss: 3.6387 - accuracy: 0.2907\n",
            "Epoch 19/100\n",
            "1564/1564 [==============================] - 15s 10ms/step - loss: 3.5764 - accuracy: 0.2999\n",
            "Epoch 20/100\n",
            "1564/1564 [==============================] - 15s 9ms/step - loss: 3.5183 - accuracy: 0.3069\n",
            "Epoch 21/100\n",
            "1564/1564 [==============================] - 15s 9ms/step - loss: 3.4602 - accuracy: 0.3146\n",
            "Epoch 22/100\n",
            "1564/1564 [==============================] - 15s 9ms/step - loss: 3.4102 - accuracy: 0.3225\n",
            "Epoch 23/100\n",
            "1564/1564 [==============================] - 15s 9ms/step - loss: 3.3591 - accuracy: 0.3294\n",
            "Epoch 24/100\n",
            "1564/1564 [==============================] - 14s 9ms/step - loss: 3.3132 - accuracy: 0.3374\n",
            "Epoch 25/100\n",
            "1564/1564 [==============================] - 14s 9ms/step - loss: 3.2684 - accuracy: 0.3431\n",
            "Epoch 26/100\n",
            "1564/1564 [==============================] - 15s 10ms/step - loss: 3.2286 - accuracy: 0.3490\n",
            "Epoch 27/100\n",
            "1564/1564 [==============================] - 15s 9ms/step - loss: 3.1929 - accuracy: 0.3544\n",
            "Epoch 28/100\n",
            "1564/1564 [==============================] - 15s 9ms/step - loss: 3.1508 - accuracy: 0.3605\n",
            "Epoch 29/100\n",
            "1564/1564 [==============================] - 15s 9ms/step - loss: 3.1052 - accuracy: 0.3668\n",
            "Epoch 30/100\n",
            "1564/1564 [==============================] - 15s 9ms/step - loss: 3.0698 - accuracy: 0.3726\n",
            "Epoch 31/100\n",
            "1564/1564 [==============================] - 15s 9ms/step - loss: 3.0337 - accuracy: 0.3784\n",
            "Epoch 32/100\n",
            "1564/1564 [==============================] - 15s 9ms/step - loss: 3.0012 - accuracy: 0.3843\n",
            "Epoch 33/100\n",
            "1564/1564 [==============================] - 15s 9ms/step - loss: 2.9709 - accuracy: 0.3914\n",
            "Epoch 34/100\n",
            "1564/1564 [==============================] - 15s 9ms/step - loss: 2.9410 - accuracy: 0.3948\n",
            "Epoch 35/100\n",
            "1564/1564 [==============================] - 15s 9ms/step - loss: 2.9121 - accuracy: 0.3985\n",
            "Epoch 36/100\n",
            "1564/1564 [==============================] - 15s 9ms/step - loss: 2.8776 - accuracy: 0.4047\n",
            "Epoch 37/100\n",
            "1564/1564 [==============================] - 15s 9ms/step - loss: 2.8462 - accuracy: 0.4110\n",
            "Epoch 38/100\n",
            "1564/1564 [==============================] - 15s 10ms/step - loss: 2.8195 - accuracy: 0.4132\n",
            "Epoch 39/100\n",
            "1564/1564 [==============================] - 15s 10ms/step - loss: 2.7945 - accuracy: 0.4176\n",
            "Epoch 40/100\n",
            "1564/1564 [==============================] - 15s 9ms/step - loss: 2.7671 - accuracy: 0.4234\n",
            "Epoch 41/100\n",
            "1564/1564 [==============================] - 15s 9ms/step - loss: 2.7414 - accuracy: 0.4299\n",
            "Epoch 42/100\n",
            "1564/1564 [==============================] - 15s 9ms/step - loss: 2.7208 - accuracy: 0.4314\n",
            "Epoch 43/100\n",
            "1564/1564 [==============================] - 15s 9ms/step - loss: 2.6964 - accuracy: 0.4371\n",
            "Epoch 44/100\n",
            "1564/1564 [==============================] - 15s 10ms/step - loss: 2.6716 - accuracy: 0.4428\n",
            "Epoch 45/100\n",
            "1564/1564 [==============================] - 14s 9ms/step - loss: 2.6528 - accuracy: 0.4444\n",
            "Epoch 46/100\n",
            "1564/1564 [==============================] - 14s 9ms/step - loss: 2.6278 - accuracy: 0.4487\n",
            "Epoch 47/100\n",
            "1564/1564 [==============================] - 15s 10ms/step - loss: 2.6027 - accuracy: 0.4526\n",
            "Epoch 48/100\n",
            "1564/1564 [==============================] - 14s 9ms/step - loss: 2.5862 - accuracy: 0.4565\n",
            "Epoch 49/100\n",
            "1564/1564 [==============================] - 14s 9ms/step - loss: 2.5630 - accuracy: 0.4590\n",
            "Epoch 50/100\n",
            "1564/1564 [==============================] - 14s 9ms/step - loss: 2.5479 - accuracy: 0.4611\n",
            "Epoch 51/100\n",
            "1564/1564 [==============================] - 14s 9ms/step - loss: 2.5279 - accuracy: 0.4651\n",
            "Epoch 52/100\n",
            "1564/1564 [==============================] - 14s 9ms/step - loss: 2.5064 - accuracy: 0.4711\n",
            "Epoch 53/100\n",
            "1564/1564 [==============================] - 14s 9ms/step - loss: 2.4908 - accuracy: 0.4725\n",
            "Epoch 54/100\n",
            "1564/1564 [==============================] - 14s 9ms/step - loss: 2.4791 - accuracy: 0.4758\n",
            "Epoch 55/100\n",
            "1564/1564 [==============================] - 14s 9ms/step - loss: 2.4646 - accuracy: 0.4756\n",
            "Epoch 56/100\n",
            "1564/1564 [==============================] - 14s 9ms/step - loss: 2.4437 - accuracy: 0.4811\n",
            "Epoch 57/100\n",
            "1564/1564 [==============================] - 14s 9ms/step - loss: 2.4320 - accuracy: 0.4832\n",
            "Epoch 58/100\n",
            "1564/1564 [==============================] - 14s 9ms/step - loss: 2.4133 - accuracy: 0.4847\n",
            "Epoch 59/100\n",
            "1564/1564 [==============================] - 14s 9ms/step - loss: 2.3976 - accuracy: 0.4903\n",
            "Epoch 60/100\n",
            "1564/1564 [==============================] - 14s 9ms/step - loss: 2.3907 - accuracy: 0.4907\n",
            "Epoch 61/100\n",
            "1564/1564 [==============================] - 14s 9ms/step - loss: 2.3717 - accuracy: 0.4939\n",
            "Epoch 62/100\n",
            "1564/1564 [==============================] - 14s 9ms/step - loss: 2.3559 - accuracy: 0.4981\n",
            "Epoch 63/100\n",
            "1564/1564 [==============================] - 14s 9ms/step - loss: 2.3369 - accuracy: 0.4999\n",
            "Epoch 64/100\n",
            "1564/1564 [==============================] - 13s 9ms/step - loss: 2.3285 - accuracy: 0.5026\n",
            "Epoch 65/100\n",
            "1564/1564 [==============================] - 14s 9ms/step - loss: 2.3284 - accuracy: 0.5014\n",
            "Epoch 66/100\n",
            "1564/1564 [==============================] - 14s 9ms/step - loss: 2.3172 - accuracy: 0.5028\n",
            "Epoch 67/100\n",
            "1564/1564 [==============================] - 14s 9ms/step - loss: 2.2855 - accuracy: 0.5098\n",
            "Epoch 68/100\n",
            "1564/1564 [==============================] - 13s 9ms/step - loss: 2.2818 - accuracy: 0.5096\n",
            "Epoch 69/100\n",
            "1564/1564 [==============================] - 14s 9ms/step - loss: 2.2709 - accuracy: 0.5128\n",
            "Epoch 70/100\n",
            "1564/1564 [==============================] - 14s 9ms/step - loss: 2.2513 - accuracy: 0.5150\n",
            "Epoch 71/100\n",
            "1564/1564 [==============================] - 13s 9ms/step - loss: 2.2450 - accuracy: 0.5166\n",
            "Epoch 72/100\n",
            "1564/1564 [==============================] - 14s 9ms/step - loss: 2.2433 - accuracy: 0.5175\n",
            "Epoch 73/100\n",
            "1564/1564 [==============================] - 14s 9ms/step - loss: 2.2242 - accuracy: 0.5236\n",
            "Epoch 74/100\n",
            "1564/1564 [==============================] - 13s 9ms/step - loss: 2.2113 - accuracy: 0.5240\n",
            "Epoch 75/100\n",
            "1564/1564 [==============================] - 13s 9ms/step - loss: 2.2066 - accuracy: 0.5240\n",
            "Epoch 76/100\n",
            "1564/1564 [==============================] - 13s 9ms/step - loss: 2.1973 - accuracy: 0.5264\n",
            "Epoch 77/100\n",
            "1564/1564 [==============================] - 14s 9ms/step - loss: 2.1854 - accuracy: 0.5291\n",
            "Epoch 78/100\n",
            "1564/1564 [==============================] - 13s 9ms/step - loss: 2.1675 - accuracy: 0.5318\n",
            "Epoch 79/100\n",
            "1564/1564 [==============================] - 14s 9ms/step - loss: 2.1722 - accuracy: 0.5307\n",
            "Epoch 80/100\n",
            "1564/1564 [==============================] - 13s 9ms/step - loss: 2.1556 - accuracy: 0.5336\n",
            "Epoch 81/100\n",
            "1564/1564 [==============================] - 13s 9ms/step - loss: 2.1463 - accuracy: 0.5354\n",
            "Epoch 82/100\n",
            "1564/1564 [==============================] - 13s 9ms/step - loss: 2.1326 - accuracy: 0.5395\n",
            "Epoch 83/100\n",
            "1564/1564 [==============================] - 13s 9ms/step - loss: 2.1455 - accuracy: 0.5360\n",
            "Epoch 84/100\n",
            "1564/1564 [==============================] - 14s 9ms/step - loss: 2.1309 - accuracy: 0.5380\n",
            "Epoch 85/100\n",
            "1564/1564 [==============================] - 14s 9ms/step - loss: 2.1078 - accuracy: 0.5437\n",
            "Epoch 86/100\n",
            "1564/1564 [==============================] - 14s 9ms/step - loss: 2.1036 - accuracy: 0.5432\n",
            "Epoch 87/100\n",
            "1564/1564 [==============================] - 14s 9ms/step - loss: 2.0941 - accuracy: 0.5449\n",
            "Epoch 88/100\n",
            "1564/1564 [==============================] - 14s 9ms/step - loss: 2.0872 - accuracy: 0.5460\n",
            "Epoch 89/100\n",
            "1564/1564 [==============================] - 13s 9ms/step - loss: 2.0836 - accuracy: 0.5465\n",
            "Epoch 90/100\n",
            "1564/1564 [==============================] - 13s 9ms/step - loss: 2.0729 - accuracy: 0.5511\n",
            "Epoch 91/100\n",
            "1564/1564 [==============================] - 14s 9ms/step - loss: 2.0614 - accuracy: 0.5509\n",
            "Epoch 92/100\n",
            "1564/1564 [==============================] - 14s 9ms/step - loss: 2.0561 - accuracy: 0.5541\n",
            "Epoch 93/100\n",
            "1564/1564 [==============================] - 14s 9ms/step - loss: 2.0414 - accuracy: 0.5547\n",
            "Epoch 94/100\n",
            "1564/1564 [==============================] - 14s 9ms/step - loss: 2.0522 - accuracy: 0.5534\n",
            "Epoch 95/100\n",
            "1564/1564 [==============================] - 14s 9ms/step - loss: 2.0359 - accuracy: 0.5550\n",
            "Epoch 96/100\n",
            "1564/1564 [==============================] - 14s 9ms/step - loss: 2.0449 - accuracy: 0.5539\n",
            "Epoch 97/100\n",
            "1564/1564 [==============================] - 14s 9ms/step - loss: 2.0183 - accuracy: 0.5603\n",
            "Epoch 98/100\n",
            "1564/1564 [==============================] - 14s 9ms/step - loss: 2.0180 - accuracy: 0.5581\n",
            "Epoch 99/100\n",
            "1564/1564 [==============================] - 14s 9ms/step - loss: 2.0125 - accuracy: 0.5595\n",
            "Epoch 100/100\n",
            "1564/1564 [==============================] - 13s 9ms/step - loss: 1.9883 - accuracy: 0.5648\n"
          ],
          "name": "stdout"
        }
      ]
    },
    {
      "cell_type": "code",
      "metadata": {
        "colab": {
          "base_uri": "https://localhost:8080/",
          "height": 279
        },
        "id": "nm69EFabWOYa",
        "outputId": "5582565a-472d-40f6-dd30-adeccc79e9ea"
      },
      "source": [
        "data='accuracy'\n",
        "plt.plot(history.history[data])\n",
        "plt.xlabel('epochs')\n",
        "plt.ylabel(data)\n",
        "plt.show()"
      ],
      "execution_count": 111,
      "outputs": [
        {
          "output_type": "display_data",
          "data": {
            "image/png": "[encoded data removed]",
            "text/plain": [
              "<Figure size 432x288 with 1 Axes>"
            ]
          },
          "metadata": {
            "tags": [],
            "needs_background": "light"
          }
        }
      ]
    },
    {
      "cell_type": "code",
      "metadata": {
        "colab": {
          "base_uri": "https://localhost:8080/",
          "height": 86
        },
        "id": "pF3p2OmVXb9j",
        "outputId": "563bdbd5-c37c-415e-c65b-e4e7979fe64f"
      },
      "source": [
        "starter=\"night is beautiful how to\"\n",
        "next_words=100\n",
        "for _ in range(next_words):\n",
        "  token_list=tokenizer.texts_to_sequences([starter])[0]\n",
        "  token_list=np.array(pad_sequences([token_list],maxlen=max_seq_len-1,padding='pre'))\n",
        "  #predicted=np.argmax(model.predict([token_list]),axis=-1)\n",
        "  predicted_probs=model.predict([token_list])[0]\n",
        "  predicted=np.random.choice([x for x in range(len(predicted_probs))],\n",
        "                               p=predicted_probs)\n",
        "  new_word=\"\"\n",
        "  for word,index in tokenizer.word_index.items():\n",
        "    if index == predicted:\n",
        "      #print(index)\n",
        "      new_word = word\n",
        "      break\n",
        "  starter = starter + \" \" + new_word\n",
        "starter\n",
        "\n"
      ],
      "execution_count": 117,
      "outputs": [
        {
          "output_type": "execute_result",
          "data": {
            "application/vnd.google.colaboratory.intrinsic+json": {
              "type": "string"
            },
            "text/plain": [
              "'night is beautiful how to say goodbye together beat that then myself was dawning down phone across me to tune of me with me in your back morning moon stone know that you are my always felt tantric time or wet me that for it to me that she doesnt judge of age rainy side cmon fool like want to meet everybodys bare shine heaven on lizzy be such on their chance on that shouting youll lose a dreamworld i dont it have fixer fashion came hard clear enough of em to fortune by every smokin soul yonder cause it isnt me that beats by'"
            ]
          },
          "metadata": {
            "tags": []
          },
          "execution_count": 117
        }
      ]
    },
    {
      "cell_type": "code",
      "metadata": {
        "colab": {
          "base_uri": "https://localhost:8080/"
        },
        "id": "JHYu6CdUYz6V",
        "outputId": "c2341def-1e2c-45dd-8497-d5fd0402dae0"
      },
      "source": [
        "seed_text = \"to the beach with my\"\n",
        "next_words = 100\n",
        "  \n",
        "for _ in range(next_words):\n",
        "\ttoken_list = tokenizer.texts_to_sequences([seed_text])[0]\n",
        "\ttoken_list = pad_sequences([token_list], maxlen=max_seq_len-1, padding='pre')\n",
        "\tpredicted = np.argmax(model.predict(token_list), axis=-1)\n",
        "\toutput_word = \"\"\n",
        "\tfor word, index in tokenizer.word_index.items():\n",
        "\t\tif index == predicted:\n",
        "\t\t\toutput_word = word\n",
        "\t\t\tbreak\n",
        "\tseed_text += \" \" + output_word\n",
        "print(seed_text)"
      ],
      "execution_count": 113,
      "outputs": [
        {
          "output_type": "stream",
          "text": [
            "to the beach with my mind is fine for me droolin with my blood matters you ever let it out of a similiar heartbreaker chance ahead ahead that i know that i heart how it up aint gonna do i hold it up youre far away ahhaha act start it never done bright to do and your own pride kissin song chiquitita leavin baited hearts take tails the other supposed pan backseat that cowboys hurdygurdy happiest case dance nancy nancy bright for able meet wed have jamas a helping hand way check it hey doll taste of head hey hey call world song will forever\n"
          ],
          "name": "stdout"
        }
      ]
    },
    {
      "cell_type": "code",
      "metadata": {
        "id": "VwLdUIZLcFS-"
      },
      "source": [
        ""
      ],
      "execution_count": null,
      "outputs": []
    }
  ]
}