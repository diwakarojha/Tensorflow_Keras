{
  "nbformat": 4,
  "nbformat_minor": 0,
  "metadata": {
    "colab": {
      "name": "5. Word Embeddings and Classification.ipynb",
      "provenance": [],
      "collapsed_sections": [],
      "authorship_tag": "ABX9TyMJtdTCVD4xvgm3+rGyxpNA",
      "include_colab_link": true
    },
    "kernelspec": {
      "name": "python3",
      "display_name": "Python 3"
    }
  },
  "cells": [
    {
      "cell_type": "markdown",
      "metadata": {
        "id": "view-in-github",
        "colab_type": "text"
      },
      "source": [
        "<a href=\"https://colab.research.google.com/github/diwakarojha/Tensorflow_Keras/blob/main/5_Word_Embeddings_and_Classification.ipynb\" target=\"_parent\"><img src=\"https://colab.research.google.com/assets/colab-badge.svg\" alt=\"Open In Colab\"/></a>"
      ]
    },
    {
      "cell_type": "code",
      "metadata": {
        "id": "Qk_kcF1NAs3x"
      },
      "source": [
        "from tensorflow.keras.preprocessing.text import Tokenizer\n",
        "from tensorflow.keras.preprocessing.sequence import  pad_sequences\n",
        "import tensorflow as tf\n",
        "import pandas as pd\n",
        "import numpy as np\n",
        "from sklearn.model_selection import train_test_split\n",
        "from tensorflow.keras.layers import Dense , Embedding, Flatten, GlobalAveragePooling1D, LSTM, Bidirectional\n",
        "import matplotlib.pyplot as plt\n",
        "from tensorflow.keras.utils import plot_model"
      ],
      "execution_count": 1,
      "outputs": []
    },
    {
      "cell_type": "code",
      "metadata": {
        "colab": {
          "base_uri": "https://localhost:8080/"
        },
        "id": "NQzRQ9ozSuJ5",
        "outputId": "6f932572-fc25-4fa6-f9f4-be922958cf4c"
      },
      "source": [
        "path=tf.keras.utils.get_file('reviews.csv','https://drive.google.com/uc?id=13ySLC_ue6Umt9RJYSeM2t-V0kCv-4C-P')\n",
        "print(path)"
      ],
      "execution_count": 2,
      "outputs": [
        {
          "output_type": "stream",
          "text": [
            "Downloading data from https://drive.google.com/uc?id=13ySLC_ue6Umt9RJYSeM2t-V0kCv-4C-P\n",
            "131072/127831 [==============================] - 0s 0us/step\n",
            "/root/.keras/datasets/reviews.csv\n"
          ],
          "name": "stdout"
        }
      ]
    },
    {
      "cell_type": "code",
      "metadata": {
        "id": "CqqhKxMEZeZN"
      },
      "source": [
        "reviews=pd.read_csv('/root/.keras/datasets/reviews.csv')"
      ],
      "execution_count": 3,
      "outputs": []
    },
    {
      "cell_type": "code",
      "metadata": {
        "colab": {
          "base_uri": "https://localhost:8080/"
        },
        "id": "Xx0ybFq6Zm30",
        "outputId": "2fd3761d-6228-42b5-e224-f63b236597ba"
      },
      "source": [
        "text=reviews.text.values\n",
        "sentiment=reviews.sentiment\n",
        "reviews['sentiment'].value_counts()\n",
        "text"
      ],
      "execution_count": 4,
      "outputs": [
        {
          "output_type": "execute_result",
          "data": {
            "text/plain": [
              "array(['So there is no way for me to plug it in here in the US unless I go by a converter.',\n",
              "       'Good case Excellent value.', 'Great for the jawbone.', ...,\n",
              "       'Overall I was not impressed and would not go back.',\n",
              "       \"The whole experience was underwhelming and I think we'll just go to Ninja Sushi next time.\",\n",
              "       \"Then as if I hadn't wasted enough of my life there they poured salt in the wound by drawing out the time it took to bring the check.\"],\n",
              "      dtype=object)"
            ]
          },
          "metadata": {
            "tags": []
          },
          "execution_count": 4
        }
      ]
    },
    {
      "cell_type": "code",
      "metadata": {
        "id": "8jbYLkWlZrW1"
      },
      "source": [
        "vocab_size=500\n",
        "padding='post'\n",
        "truct='post'\n",
        "emb_dim=16\n",
        "max_length=50\n",
        "tokenizer=Tokenizer(num_words=vocab_size,oov_token='<OOV>')\n",
        "tokenizer.fit_on_texts(text)"
      ],
      "execution_count": 5,
      "outputs": []
    },
    {
      "cell_type": "code",
      "metadata": {
        "colab": {
          "base_uri": "https://localhost:8080/"
        },
        "id": "tB_zQZqDcJWU",
        "outputId": "1abba476-d648-4423-999b-4dd0fac4e8e2"
      },
      "source": [
        "word_index=tokenizer.word_index\n",
        "word_index.keys()"
      ],
      "execution_count": 6,
      "outputs": [
        {
          "output_type": "execute_result",
          "data": {
            "text/plain": [
              "dict_keys(['<OOV>', 'the', 'and', 'i', 'a', 'it', 'to', 'is', 'was', 'this', 'of', 'not', 'for', 'my', 'in', 'with', 'very', 'good', 'great', 'phone', 'that', 'on', 'have', 'you', 'food', 'had', 'place', 'so', 'but', 'service', 'are', 'be', 'we', 'all', 'as', 'at', 'like', 'they', 'time', 'back', 'one', 'were', 'quality', 'would', 'really', 'here', 'if', 'from', 'well', 'your', 'just', 'product', 'up', 'best', \"don't\", 'no', 'will', 'an', 'there', 'go', 'me', 'has', 'only', 'also', 'works', \"i've\", 'out', 'headset', 'nice', 'ever', 'battery', \"it's\", 'sound', 'than', 'use', 'or', 'when', \"i'm\", 'our', 'get', 'what', 'their', 'after', 'love', 'been', 'did', 'excellent', 'recommend', 'even', 'more', 'again', 'first', 'too', 'work', 'which', 'ear', 'about', '2', 'better', 'can', 'never', 'price', 'any', 'could', 'bad', 'because', 'do', 'made', 'got', 'case', 'pretty', 'much', 'by', 'now', 'disappointed', 'worst', 'friendly', 'does', 'them', 'some', 'then', 'think', 'am', 'came', 'minutes', 'money', 'new', 'enough', 'still', 'these', 'other', 'amazing', 'restaurant', 'going', 'how', 'definitely', 'say', 'happy', 'off', 'experience', 'delicious', 'way', 'two', 'few', 'while', 'over', 'being', 'vegas', 'us', 'right', 'poor', 'thing', 'everything', \"won't\", 'he', 'far', 'went', \"didn't\", 'car', 'make', '1', 'item', 'worked', 'terrible', 'always', 'charger', 'waste', 'comfortable', 'people', 'want', 'buy', 'used', 'staff', 'eat', 'long', 'bought', 'little', 'bluetooth', 'down', 'easy', 'its', 'impressed', '5', 'reception', 'piece', 'awesome', 'ordered', 'stars', 'times', \"doesn't\", 'fine', 'lot', 'know', \"wasn't\", 'chicken', 'charge', 'life', 'since', 'order', 'found', 'tried', 'both', 'fantastic', 'same', 'every', 'before', 'customer', 'quite', 'take', 'another', 'menu', 'salad', 'pizza', 'last', 'problem', 'purchase', 'cell', 'around', 'small', 'slow', 'horrible', 'worth', 'many', 'feel', \"can't\", 'fresh', 'wait', 'steak', 'highly', 'she', 'talk', 'sure', '3', 'camera', 'calls', 'device', \"couldn't\", 'night', 'overall', 'probably', 'day', 'come', 'next', 'taste', 'server', 'sushi', 'flavor', 'problems', 'volume', 'into', 'absolutely', 'hear', 'years', 'clear', 'real', 'cool', 'working', 'using', 'motorola', 'fit', 'look', 'try', 'give', 'bland', 'nothing', 'said', 'coming', 'burger', 'plug', 'must', 'design', 'who', 'makes', 'loved', 'looks', 'call', 'fits', 'getting', 'cheap', 'side', 'where', 'family', 'low', 'however', 'deal', 'hard', 'perfect', 'tasty', 'buffet', 'meal', 'atmosphere', 'several', 'without', 'months', 'left', 'phones', 'should', 'seriously', 'big', 'super', 'expect', 'area', 'screen', 'once', 'felt', \"i'd\", 'bit', 'year', 'return', 'either', 'old', 'disappointing', 'hot', 'took', 'soon', 'selection', 'prices', 'sauce', 'lunch', 'breakfast', 'waited', 'days', 'helpful', 'need', 'kept', 'priced', 'find', 'wear', 'received', 'high', 'light', 'fast', 'completely', 'job', 'kind', 'perfectly', 'stay', '10', 'company', 'disappointment', 'hands', 'amazon', 'looking', \"i'll\", 'away', 'bar', 'inside', 'fries', 'table', 'sandwich', 'meat', 'dishes', 'clean', 'cold', 'most', 'three', 'simple', 'verizon', 'dropped', 'end', 'buttons', 'different', 'gets', 'home', 'arrived', 'quickly', 'broke', 'black', 'may', 'jabra', 'pleased', 'done', 'avoid', 'voice', 'check', 'extremely', 'thought', 'tell', 'junk', 'couple', 'especially', 'unit', 'anyone', 'unfortunately', 'wrong', 'none', 'hour', 'waitress', 'beer', 'dish', 'eating', 'dining', 'spicy', 'spot', 'rude', 'tasted', 'value', 'each', 'started', 'though', 'everyone', 'picture', 'audio', 'loud', 'week', 'feels', 'headsets', 'huge', 'full', 'software', 'during', 'hours', 'internet', 'less', 'put', 'useless', 'color', 'part', 'expected', 'authentic', 'nokia', 'anything', 'sucks', 'ago', 'wanted', 'waiting', 'rather', 'those', 'things', 'cannot', 'enjoy', 'barely', 'quick', 'pay', 'awful', 'mediocre', 'management', 'see', 'overpriced', 'warm', 'waiter', 'attentive', 'cooked', 'wonderful', 'town', 'ambiance', 'chips', 'special', 'unless', 'decent', 'original', 'yet', 'bars', 'ears', 'hate', 'least', 'turn', 'seems', 'actually', 'large', 'reasonable', 'headphones', 'later', 'beautiful', 'within', 'free', 'pictures', 'such', 'wife', 'ask', 'signal', 'set', 'house', 'glad', 'incredible', 'hit', 'thin', 'mistake', 'cable', 'care', 'lacking', 'having', 'outside', 'others', 'crap', 'plastic', 'oh', 'difficult', '20', 'under', 'star', 'zero', 'samsung', 'extra', 'something', '4', 'easily', 'places', 'pho', 'shrimp', 'tender', 'his', 'potato', 'served', 'her', 'twice', 'dinner', 'line', 'fun', 'razr', 'blue', 'charging', 'mobile', 'hold', 'sturdy', 'party', 'front', 'longer', 'bargain', 'music', 'dont', 'shipping', 'between', 'white', 'although', 'leather', 'strong', 'weeks', 'almost', 'literally', \"wouldn't\", 'charm', 'obviously', 'options', 'needs', 'lost', 'simply', 'reasonably', 'range', 'room', 'important', 'gave', 'feature', 'buying', 'someone', 'weak', 'belt', 'data', 'sides', 'average', 'trying', 'finally', 'today', 'satisfied', 'keep', 'clarity', 'given', 'review', 'store', 'replace', 'above', 'sucked', 't', 'friends', 'please', 'needed', 'plus', 'cases', 'connection', 'reviews', 'told', 'beat', 'wall', 'elsewhere', 'break', 'rare', 'thumbs', 'dirty', 'ok', 'fact', 'wow', 'asked', 'tables', 'portions', 'sick', 'dessert', 'beef', 'servers', 'seafood', 'pasta', 'tasteless', 'fish', '30', 'sweet', 'thai', 'eaten', 'seated', 'bacon', 'sat', 'ice', 'bread', 'fried', 'enjoyed', 'anytime', 'bring', 'mic', 'sending', 'owner', 'clip', 'below', '7', 'instructions', 'provided', 'included', 'recommended', 'performance', 'thats', 'keyboard', 'instead', 'support', 'perhaps', 'player', 'let', 'person', 'station', 'purchased', 'holds', 'decision', 'comfortably', 'basically', 'stuff', 'forever', 'goes', 'tool', 'lasts', 'bother', 'able', 'lightweight', 'favorite', 'market', 'earpiece', '8', 'unreliable', 'whole', 'seller', 'plantronics', 'poorly', 'charged', 'strip', 'lg', 'immediately', 'cant', 'easier', 'face', 'happier', 'comes', 'dead', 'might', 'expensive', 'liked', 'palm', 'ended', 'touch', 'own', 'total', 'cingular', \"isn't\", 'ringtones', 'joke', 'stop', 'walked', 'course', 'treo', 'usb', 'believe', 'point', 'red', 'guess', 'third', 'chinese', 'despite', 'hand', 'cut', 'else', 'until', 'checked', 'setting', 'totally', 'damn', 'tacos', 'running', 'salmon', 'visit', 'establishment', 'husband', 'heart', 'drinks', 'rice', 'yummy', \"we'll\", 'wine', 'trip', 'steaks', 'leave', 'pork', 'burgers', 'cream', 'drink', 'itself', 'considering', 'bay', 'phoenix', 'sad', 'wings', 'live', 'drive', 'business', 'folks', '0', 'chef', 'possible', 'close', 'tea', 'why', 'location', 'vegetables', 'soup', 'owners', '40', 'manager', 'dry', 'jawbone', 'conversations', 'contacts', 'needless', 'wasted', 'static', 'website', 'pair', \"that's\", 'pocket', 'pc', 'combination', 'owned', 'book', 'worthless', 'features', 'mind', 'returned', 'protection', 'world', 'seconds', '510', 'complaints', 'particular', \"phone's\", 'cover', 'fairly', 'trouble', 'saying', 'choice', 'packaged', '6', 'loves', 'construction', 'boy', 'ease', 'play', 'plan', 'match', 'pros', 'rated', 'impressive', 'fall', 'display', 'rocks', 'number', 'setup', 'earpieces', 'bt', 'earbud', 'failed', 'coverage', 'experienced', 'drops', 'description', 'hoping', 'seemed', 'sharp', 'wasting', 'chargers', 'offers', 'handsfree', 'network', 'recently', 'bucks', 'replacement', 'nearly', 'form', 'anyway', 'means', \"there's\", 'certainly', 'mess', 'hair', 'sony', 'comfort', 'cute', 'whatsoever', 'drain', 'fry', 'scratched', 'microphone', 'uncomfortable', 'plugged', 'gotten', 'driving', 'neither', 'flip', 'inexpensive', 'sitting', 'wireless', 'reason', 'exactly', \"you'd\", 'stupid', 'breaks', 'note', 'alone', 'q', 'size', 'turned', 'reading', 'wearing', 'sunglasses', 'computer', 'returning', 'understand', 'pricing', 'results', 'im', 'noise', 'holster', 'orders', 'refund', 'drop', 'through', 'speaker', 'sprint', 'stopped', 'tinny', 'placed', 'spring', 'happened', 'pairing', 'crisp', 'ripped', 'iphone', 'multiple', 'power', 'outlet', 'etc', 'passed', '100', 'convenient', 'date', 'bottom', '12', 'boot', 'double', 'disgusting', 'lots', 'together', 'send', 'says', 'top', 'making', 'fails', 'beep', 'word', 'complain', 'seen', 'disappoint', 'texture', 'nasty', 'recommendation', 'potatoes', 'brought', 'sashimi', 'yourself', 'moist', 'frozen', 'greek', 'dressing', 'pita', 'hummus', 'duck', 'flat', 'amount', 'water', 'second', 'salt', 'chewy', 'rolls', 'mouth', \"you're\", 'tip', 'cafe', 'ambience', 'honest', 'busy', 'delish', 'melt', 'cheese', 'subway', 'restaurants', 'empty', 'ate', 'watched', 'stale', 'treated', 'vegetarian', 'healthy', 'interesting', 'decor', 'butter', 'egg', 'dog', 'insulted', 'hope', 'brunch', 'soggy', 'lobster', 'flavorful', 'par', 'generous', 'patio', 'outstanding', \"friend's\", 'pizzas', 'pulled', 'pleasant', 'equally', 'bathroom', 'door', 'deserves', 'stomach', 'green', 'beans', 'regular', '35', 'bill', 'worse', 'meals', 'homemade', 'gone', 'desserts', 'boyfriend', 'maybe', 'half', 'list', 'vibe', 'him', 'edible', 'seating', 'style', 'salsa', 'lacked', 'lasting', '45', 'imagine', 'extended', 'notice', 'tooth', 'advise', 'fire', 'run', 'pull', 'unusable', 'juice', 'short', 'regarding', 'turns', 'pda', 'neat', '15', 'essentially', 'forget', 'tech', 'clearly', 'mp3', 'songs', 'lock', 'died', 'glasses', 'sometimes', 'series', 'quiet', 'docking', 'd807', 'advertised', 'handy', 'cheaper', 'costs', 'buyer', 'beware', 'apparently', 'flaw', 'expectations', 'resolution', 'slim', 'sex', 'toast', 'sleek', 'keypad', 'unhappy', 'winner', 'careful', 'logitech', 'recognition', 'tremendous', 'takes', 'stated', 'blackberry', 'sounds', 'funny', 'technology', 'wired', 'previous', 's', 'w810i', 'superb', 'maintain', \"shouldn't\", 'graphics', 'button', 'thank', 'igo', 'tips', 'connected', \"wife's\", 'whether', 'likes', 'storage', 'buzzing', 'override', 'functionality', 'ring', 'dropping', 'hardly', \"you'll\", 'incredibly', 'strange', 'living', 'issues', 'embarrassing', 'mostly', 'consumer', 'background', 'usually', 'excited', 'additional', 'gels', 'purpose', 'secure', 'appears', 'rubber', 'smell', 'caused', 'flimsy', 'month', 'flawlessly', 'giving', 'rotating', 'adorable', 'thru', 'wise', 'compliments', 'dialing', 'games', 'ipod', 'recharge', 'appealing', 'save', 'along', 'starts', 'ringing', 'auto', 'push', 'skype', 'self', 'help', 'shipped', 'promptly', 'prompt', 'noticed', 'att', 'mention', 'weird', 'effect', 'model', 'warning', 'wish', 'dying', 'install', 'purchasing', 'moto', 'figure', 'key', 'memory', 'solid', 'changing', 'update', 'cumbersome', 'delivery', 'switch', 'worthwhile', 'batteries', 'user', 'ability', 'receiving', 'exchanged', 'cellphone', 'described', '11', 'nyc', 'defective', 'unacceptable', 'catching', 'amazed', 'timeframe', 'complaint', 'standard', 'thanks', 'accidentally', 'listening', 'kitchen', 'conversation', 'ample', 'eargels', 'seem', 'ones', 'properly', 'missed', 'numerous', 'hated', 'due', 'forced', 'constructed', 'menus', 'holding', 'broken', 'effort', 'idea', \"they're\", 'doing', 'killer', 'breaking', '50', 'operate', 'paired', 'pack', 'apart', 'brand', 'surprised', 'fabulous', 'performed', 'echo', 'wind', 'warranty', 'luck', 'falling', 'tiny', 'four', 'tries', 'download', 'rate', 'access', 'continue', 'somehow', 'flash', 'truly', 'tones', 'prime', 'biggest', 'video', 'entire', 'accept', 'shots', 'allows', 'quit', 'via', 'signs', 'sizes', 'provides', 'classy', 'metro', 'somewhat', 'cost', 'smoke', 'son', 'protector', 'sorry', 'refused', 'discount', 'five', 'sounded', 'talking', 'feet', 'everywhere', 'ordering', 'awkward', 'current', 'answer', 'read', \"haven't\", 'letting', 'laptop', 'normal', 'lose', 'exceptional', 'show', 'managed', 'seat', 'lightly', 'rating', 'christmas', 'rest', 'otherwise', 'joy', 'covered', 'crust', 'late', 'cashier', 'mmmm', 'human', 'mexican', 'overwhelmed', 'bite', 'familiar', 'favor', 'delight', 'judge', 'grossed', 'behind', 'char', 'realized', 'attitudes', 'towards', 'customers', 'portion', 'attack', 'grill', 'downtown', 'excuse', 'scallop', 'refill', 'appetizers', 'heard', 'batter', 'finish', 'beyond', 'meh', 'min', 'known', 'suck', 'seasoned', 'opportunity', 'underwhelming', 'grease', 'roast', 'sugary', 'six', 'die', 'bye', 'lady', 'serves', 'roasted', 'garlic', 'marrow', 'added', 'bartender', 'playing', 'lovers', 'gross', 'preparing', 'indian', 'belly', 'crispy', 'wrap', 'tuna', 'bagels', 'selections', 'dine', 'rarely', 'curry', 'bathrooms', 'decorated', 'pace', 'greeted', 'joint', 'bakery', 'ladies', 'hip', 'overcooked', 'charcoal', 'decided', 'looked', 'dirt', 'watch', 'gyros', 'feeling', 'valley', 'bowl', 'disrespected', 'stepped', 'gold', 'puree', 'bug', \"we're\", 'friend', 'shower', 'bisque', 'filet', 'pepper', 'cook', 'dealing', 'cheeseburger', 'single', 'yum', 'mayo', 'honestly', 'stayed', 'building', 'dark', 'sub', 'creamy', 'similar', 'sticks', 'tap', 'coffee', 'boba', 'taco', 'bachi', 'salads', 'neighborhood', 'soooo', 'stir', 'summer', 'delightful', 'toasted', 'fare', 'doubt', 'serve', 'mom', 'bites', 'omg', 'brick', 'oven', 'ten', 'pancakes', 'eggs', 'treat', 'evening', 'lukewarm', 'eggplant', 'stuffed', 'mall', 'kids', 'perfection', 'impeccable', 'pop', 'assure', 'become', 'professional', \"we've\", 'nicest', 'biscuits', 'cow', 'driest', 'tots', 'paid', 'acknowledged', 'margaritas', 'flower', 'group', 'crab', 'legs', 'sliced', 'bunch', 'filling', 'lovely', 'choose', 'entrees', 'recent', 'tapas', 'vinegrette', 'baby', 'helped', 'fan', 'presentation', 'satisfying', 'grilled', 'non', 'focused', 'guy', 'promise', 'italian', 'legit', 'staying', 'fail', 'plate', 'serving', 'fly', 'paper', 'crowd', 'mid', 'definately', 'flavorless', 'nachos', 'crazy', 'tribute', 'fell', 'services', 'heat', \"aren't\", 'spend', 'undercooked', 'converter', 'tied', 'major', 'jiggle', 'dozen', 'hundred', 'seperated', 'mere', 'ft', 'excessive', 'garbled', 'odd', 'fooled', 'clicks', 'wonder', 'mechanism', \"motorola's\", 'followed', 'directions', 'kindle', 'commercials', 'misleading', 'mother', 'couldnt', 'earphone', 'breakage', 'unacceptible', 'ideal', 'whose', 'sensitive', 'moving', 'freeway', 'speed', 'contract', 'ac', 'highy', 'mins', '680', '2mp', 'pics', 'garbage', 'gonna', 'arguing', 'bulky', 'usable', 'useful', 'machine', 'gadget', 'e', 'stream', 'submerged', \"microsoft's\", 'faceplates', 'elegant', 'angle', 'drawback', 'pause', 'skip', 'activated', 'suddenly', 'ipods', 'situations', 'bmw', 'hearing', 'wrongly', 'everyday', 'intended', 'runs', 'loads', 'greater', 'buds', 'waaay', 'bluetooths', 'listener', 'integrated', 'seamlessly', 'flush', 'toilet', 'supposedly', '375', 'styles', 'correctly', '350', 'jabra350', 'megapixels', 'renders', 'images', 'relatively', 'purcashed', 'geeky', 'oozes', 'embedded', 'stylish', 'compromise', 'qwerty', 'basic', 'simpler', 'iam', 'disapoinment', 'realize', 'accompanied', 'brilliant', 'nicely', 'damage', 'definitly', 'majority', 'peachy', 'keen', 'upstairs', 'basement', 'minute', 'reccomendation', 'relative', 'items', 'sudden', 'linking', '8530', 'curve', 'sketchy', 'messages', 'web', 'browsing', 'significantly', 'faster', 'build', 'unlike', 'colors', 'whine', 'communications', 'communicate', 'monkeys', 'share', 'dna', 'copy', 'humans', 'bougth', 'l7c', 'mode', 'file', 'browser', 'hs850', 'latest', 'os', 'v1', '15g', 'crawl', 'recognizes', 'bluetoooth', 'thorn', 'abhor', 'disconnected', '13', 'mail', 'backlight', 'message', 'tone', 'lately', 'wit', 'weight', 'pleather', 'deaf', 'prettier', 'investment', 'ticking', 'noises', 'ends', 'electronics', 'available', 'fm', 'transmitters', 'h500', 'mega', 'pixel', 'good7', 'transmit', 'contacting', 'dollar', 'learned', 'lesson', 'online', 'earbugs', 'roam', 'crack', 'infatuated', 'freezes', 'frequently4', 'child', 'tick', 'headbands', 'ericsson', 'purchases', 'shine', 'calendar', 'sync', 'defeats', 'penny', 'wallet', 'type', 'excrutiatingly', 'aspect', 'glove', 'durable', 'o', 'gosh', 'attractive', 'factor', 'petroleum', 'unbearable', 'scary', 'stereo', 'absolutel', 'potentially', 'reversible', 'contstruct', 'hinge', 'installed', 'overnite', 'handset', 'cat', 'attacked', 'protective', 'destroying', 'razor', 'v3i', 'shouldve', 'invented', 'sooner', 'engineered', 'clever', 'complained', \"headset's\", '2160', 'tracfone', 'instruction', 'manual', 'alarm', 'clock', 'removing', 'antena', 'compared', 'state', 'allow', 'usage', 'ngage', 'earbuds', 'riingtones', 'rip', 'frequentyly', 'adhesive', 'practically', 'add', 'boost', 'concrete', 'knock', 'wood', 'transformed', 'organizational', 'capability', 'vehicle', 'cradle', 'jerks', 'los', 'angeles', 'starter', 'loudspeaker', 'option', 'bumpers', 'lights', 'improve', 'leaks', 'according', 'called', 'applifies', 'specially', 'transmission', 's11', 'finished', 'drivng', 'reverse', 'tape', 'embarassing', 'hurt', 'protects', 'operates', 'soyo', 'portraits', 'exterior', 'mentioned', 'gadgets', 'magical', 'comparably', 'offering', 'encourage', 'effective', 'recieve', 'cradles', 'kits', 'excelent', 'cingulair', 'nicer', 'era', 'colored', 'hoursthe', 'thereplacement', '2000', 'cheaply', 'distorted', 'yell', 'forgot', 'iriver', 'spinn', 'fond', 'magnetic', 'strap', 'psyched', 'appointments', 'appearance', 'sanyo', 'survived', 'dozens', 'blacktop', 'ill', 'earphones', 'finds', 'enter', 'modest', 'cellular', 'awsome', 'drained', 'earpad', 'displeased', 'defect', 'risk', 'built', 'restored', 'jx', 'searched', 'pad', 'lit', 'portable', 'colleague', 'fully', 'bed', 'wi', 'fi', 'morning', 'card', 'hat', 'timely', 'shipment', 'surefire', 'gx2', 'bt50', 'buyers', 'remorse', 'accessoryone', 'inexcusable', 'carriers', 'tmobile', 'procedure', 'motorolas', 'vx9900', 'env', 'rocketed', 'destination', 'unknown', 'conditions', 'usefulness', \"verizon's\", 'bills', 'plans', 'overnight', 'regret', 'pitiful', 'respect', 'stuck', 'max', 'mute', 'hybrid', 'palmtop', 'excels', 'roles', 'bt250v', 'bose', 'cancelling', 'commuter', 'photo', 'ad', 'earlier', 'noted', 'happens', 'frog', 'eye', 'pushed', 'function', 'aluminum', 'vx', 'protected', 'handheld', 'tools', 'sturdiness', 'source', 'waterproof', 'sliding', 'edge', 'pants', 'pockets', 'ugly', 'shield', 'incrediable', 'improvement', 'refuse', 'activate', 'gentle', 'threw', 'window', 'inches', 'counter', 'cracked', 'laughing', 'trunk', 'carried', 'hitch', 'practical', 'channel', 'directly', 'increase', 'shifting', 'bubbling', 'peeling', 'scratch', 'droid', 'exercise', 'frustration', 'earset', 'outgoing', 'package', 'understanding', 'patient', 'wirefly', 'contact', 'inform', 'practice', 'aggravating', 'virgin', 'muddy', 'casing', \"wire's\", 'insert', 'glued', 'slid', 'plantronincs', 'continues', 'flawed', 'disapointing', 'fourth', 'fixes', 'accessing', 'downloading', 'performing', 'functions', 'constantly', 'happening', 'adapters', 'procedures', 're', 'wiping', 'strength', 'plays', 'louder', 'navigate', 'recessed', 'avoiding', 'smoking', 'linked', 'possesed', 'trash', 'research', 'development', 'division', 'knows', 'infuriating', 'walkman', 'charges', 'europe', 'asia', 'clipping', 'deffinitely', \"cent's\", 'behing', '5020', 'comfortible', '24', 'pain', 'arrival', 'fraction', 'crappy', 'e715', 'seeen', 'interface', 'decade', 'compete', 'designs', '700w', 'transceiver', 'steer', 'genuine', 'replacementr', 'pens', 'buyit', 'beats', 'fingers', 'steep', 'normally', 'haul', 'dissapointing', 'originally', 'discarded', 'players', 'posted', 'detailed', 'comments', 'grey', 'existing', 'cds', 'currently', 'shooters', 'delay', 'messes', 'bitpim', 'program', 'transfer', 'accessory', 'manufacturer', 'muffled', 'incoming', 'severe', 'resistant', 'overly', 'contacted', 'produce', 'receipt', 'linksys', 'exchange', 'refurb', 'snug', 'heavy', 'keeps', 'utter', 'promised', 'loop', 'latch', 'visor', 'address', 'reboots', 'tungsten', 'e2', 'flipphones', 'designed', 'smoothly', 'study', 'interested', 'sins', 'industrial', 'tracking', 'detachable', 'periodically', 'upload', 'locks', 'screens', 'randomly', 'locked', '325', 'worn', 'ringer', 'choices', 'acceptable', 'balance', 'ready', 'upbeat', 'forgeries', 'abound', 'explain', 'jack', 'ca', '42', 'smallest', 'stays', 'drains', 'superfast', 'ergonomic', 'theory', 'stand', 'clips', 'occupied', 'distracting', 'except', 'cbr', 'mp3s', 'preferably', 'windows', 'media', 'sos', 'signals', 'connect', 'mini', 'near', 'open', 'allowing', 'startac', 'regretted', 'outperform', 'china', 'v325i', 'numbers', 'sim', '3o', 'r', 'crashed', 'replaced', '18', '4s', 'connecting', 'sources', 'imac', 'external', 'bells', 'whistles', 'slide', 'grip', 'prevents', 'slipping', 'span', 'exclaim', 'whoa', 'tv', 'corded', 'freedom', 'mark', 'shows', 'functional', 'soft', 'tight', 'shape', 'copier', 'sent', 'anywhere', 'sold', 'units', 'krussel', 'tracfonewebsite', 'toactivate', 'texas', 'dit', '5320', 'mainly', 'whatever', 'blueant', 'supertooth', 'pcs', 'sch', 'r450', 'slider', 'premium', 'plugs', 'plenty', 'capacity', 'confortable', 'periods', 'ant', 'hey', 'pleasantly', 'suprised', 'dustpan', 'indoors', 'disposable', 'puff', 'ride', 'smoother', 'nano', 'dissapointed', 'reccommend', 'carries', 'highest', 'anti', 'glare', 'smartphone', 'wont', 'atleast', 'addition', 'amp', 'reoccure', 'somewhere', 'creaks', 'wooden', 'floor', 'apartment', 'generally', 'inconspicuous', 'slowly', 'impossible', 'upgrade', 'securly', 'possibility', 'booking', 'entertainment', 'communication', 'activesync', 'optimal', 'synchronization', 'coupon', 'instance', 'ps3', 'cheapy', 'shouting', 'telephone', 'yes', 'shiny', 'grtting', '44', 'v3c', 'exceeds', 'sight', 'improper', 'effects', 'palms', 'hoped', 'father', 'v265', 'pads', 'stops', 'intermittently', 'reaching', 'row', 'keys', 'nightmare', 'describe', 'speakerphone', 'cassette', 'cellphones', 'planning', \"other's\", 'products', 'sensor', 'reliability', 'beeping', 'dieing', 'ir', 'cancellation', 'counterfeit', 'travled', 'swivel', 'sister', 'dual', '8125', 'keeping', 'bottowm', 'gimmick', 'opens', 'causing', 'discomfort', 'trust', 'maintains', 'flawless', 'devices', 'utterly', 'confusing', 'holder', 'cutouts', 'land', 'loops', 'material', 'flaws', 'owning', 'official', 'oem', 'loudest', 'competitors', 'saved', 'alot', 'cuts', 'unintelligible', 'restart', 'bend', 'leaf', 'metal', 'stress', 'leopard', 'print', 'wonderfully', 'wild', 'saggy', 'floppy', 'looses', 'snap', '8525', 'carry', 'fliptop', 'loose', 'wobbly', 'eventually', 'receive', 'fulfills', 'requirements', 'rests', 'against', 'websites', 'cables', 'lap', 'controls', 'accessable', 'mine', 'satisifed', '2005', 's710a', 'specs', 'armband', 'allot', 'clearer', 'keypads', 'reach', 'ericson', 'z500a', 'motor', 'control', 'center', 'voltage', 'humming', 'equipment', 'certain', 'girl', 'wake', 'styling', 'restocking', 'fee', 'darn', 'lousy', 'sweetest', 'securely', 'hook', 'directed', 'canal', 'unsatisfactory', 'videos', 'negatively', 'adapter', 'provide', 'hype', 'assumed', 'lense', 'falls', 'text', 'messaging', 'tricky', 'painful', 'lasted', 'blew', 'flops', 'smudged', 'touches', 'infra', 'port', 'irda', 'bank', 'holiday', 'rick', 'steve', 'angry', 'honeslty', 'ahead', 'warmer', 'wayyy', 'cape', 'cod', 'ravoli', 'chickenwith', 'cranberry', 'disgusted', 'shocked', 'indicate', 'cash', 'burrittos', 'blah', 'interior', 'velvet', 'cake', 'ohhh', 'hole', 'street', 'luke', 'sever', 'combos', '23', 'final', 'blow', 'accident', 'grab', 'pub', 'redeeming', 'hiro', 'drag', 'melted', 'styrofoam', 'fear', 'positive', 'pucks', 'disgust', 'register', 'rib', 'section', 'generic', 'firehouse', 'refreshing', 'pink', 'chow', 'mein', 'imaginative', 'lined', 'strings', 'banana', 'petrified', 'struggle', 'wave', 'receives', 'cocktails', 'handmade', \"we'd\", 'military', 'dos', 'gringos', 'tastings', 'jeff', 'milkshake', 'chocolate', 'milk', 'excalibur', 'common', 'sense', 'appalling', 'cheated', 'experiencing', 'relationship', 'parties', 'smelled', 'trap', 'turkey', 'pan', 'cakes', 'raving', 'disaster', 'tailored', 'palate', 'ratio', 'tenders', 'unsatisfying', 'omelets', 'summary', 'largely', 'sexy', 'outrageously', 'flirting', 'hottest', 'rock', 'casino', 'step', 'forward', 'bone', 'bloddy', \"mary's\", 'mussels', 'reduction', 'buffets', 'tigerlilly', 'afternoon', 'personable', 'sooooo', \"let's\", 'yama', '40min', 'arriving', 'actual', 'blandest', 'cuisine', 'worries', 'guys', 'loving', \"he's\", 'venture', 'further', 'host', 'lack', 'bitches', 'liking', 'reasons', 'reviewing', 'phenomenal', 'venturing', 'penne', 'vodka', 'including', 'massive', 'meatloaf', 'lox', 'capers', 'meet', 'weekend', 'suggestions', 'bamboo', 'shoots', 'blanket', 'moz', 'subpar', 'attention', 'ignore', 'fiancé', 'middle', 'mandalay', 'forty', 'vain', 'crostini', 'highlights', 'nigiri', 'flavored', 'voodoo', 'gluten', 'leftover', 'relocated', 'diverse', 'hella', 'salty', 'spinach', 'avocado', 'ingredients', 'handed', 'listed', 'waitresses', 'lordy', 'khao', 'soi', 'terrific', 'thrilled', 'accommodations', 'daughter', 'caught', 'judging', 'inspired', 'leaves', 'desired', 'modern', 'maintaining', 'coziness', 'weekly', 'haunt', 'asking', 'verge', 'dressed', 'rudely', 'hits', 'quantity', 'lemon', 'raspberry', 'cocktail', 'imagined', 'crepe', 'bits', 'missing', \"joey's\", 'voted', 'readers', 'magazine', 'fridays', 'blows', 'exceeding', 'dreamed', 'serivce', 'inviting', 'lived', '1979', 'foot', 'mixed', 'mushrooms', 'yukon', 'corn', 'beateous', 'showed', 'climbing', 'tartar', 'jamaican', 'mojitos', 'rich', 'accordingly', 'rinse', 'nude', 'bussell', 'sprouts', 'risotto', 'hopefully', 'bodes', 'wrapped', 'dates', 'unbelievable', 'otto', 'welcome', 'mains', 'uninspired', 'whenever', \"world's\", 'annoying', 'drunk', 'patty', 'uploaded', 'yeah', 'sporting', 'events', 'walls', \"tv's\", \"they'd\", 'descriptions', 'eel', 'sauces', 'hardest', \"m's\", 'supposed', 'rolled', 'eyes', 'providing', 'flavourful', 'freezing', 'reviewer', 'delights', 'ayce', 'lighting', 'mood', 'based', 'gratitude', \"owner's\", 'privileged', 'parents', 'silently', 'peanut', \"would've\", 'godfathers', 'tough', 'recall', 'exquisite', 'thus', 'visited', 'proclaimed', 'wildly', 'veggitarian', 'platter', 'madison', 'ironman', 'chefs', 'dedicated', 'spots', 'jenni', 'goat', 'skimp', 'mac', 'stinks', 'burned', 'saganaki', 'disagree', 'fellow', 'yelpers', 'prepared', 'writing', 'noodles', 'chip', 'count', 'box', 'boring', 'greedy', 'corporation', 'dime', 'atrocious', 'charming', 'outdoor', 'english', 'muffin', 'untoasted', 'bus', 'figured', 'publicly', 'loudly', 'bbq', 'lighter', 'public', 'ways', 'downside', 'shawarrrrrrma', 'eyed', 'peas', 'unreal', 'vinaigrette', '00', 'honor', 'hut', 'coupons', 'unbelievably', 'covers', 'replenished', 'plain', 'yucky', '17', 'delicioso', 'spaghetti', 'tucson', 'chipotle', 'succulent', 'baseball', 'app', 'genuinely', 'enthusiastic', 'sadly', 'gordon', \"ramsey's\", 'shall', 'sharply', 'offered', 'handling', 'rowdy', 'despicable', 'craving', 'ache', 'ball', 'space', 'elegantly', 'customize', 'usual', 'bean', 'outta', 'inconsiderate', 'hi', 'dinners', 'outshining', 'halibut', 'starving', '90', 'disgrace', 'def', 'ethic', 'andddd', 'past', 'located', 'crystals', 'shopping', 'aria', 'summarize', 'nay', 'transcendant', 'brings', 'pneumatic', 'condiment', 'dispenser', 'ians', 'kiddos', 'bouchon', 'accountant', 'screwed', 'reminds', 'shops', 'san', 'francisco', 'buldogis', 'gourmet', 'frustrated', 'petty', 'iced', 'hungry', 'teeth', 'sore', 'companions', 'ground', 'smeared', 'tracked', 'pile', 'bird', 'poop', 'furthermore', 'operation', 'expert', 'connisseur', 'topic', 'jerk', 'strike', 'wants', 'rushed', 'across', 'appetizer', 'absolutley', '5lb', '4ths', 'gristle', 'fat', 'steiners', 'dollars', 'fs', 'pears', 'almonds', 'spicier', 'prefer', 'ribeye', 'mesquite', 'gooodd', 'connoisseur', 'difference', 'contained', 'mouthful', 'enjoyable', 'relaxed', 'venue', 'couples', 'groups', 'nargile', 'tater', 'southwest', 'vanilla', 'smooth', 'profiterole', 'choux', 'pastry', 'az', \"carly's\", 'forgetting', 'ventilation', 'upgrading', 'letdown', 'camelback', 'shop', 'cartel', 'trimmed', '70', 'claimed', 'handled', 'beautifully', 'jewel', 'las', 'limited', 'boiled', 'toro', 'tartare', 'cavier', 'extraordinary', 'thinly', 'wagyu', 'truffle', 'attached', 'gas', 'sign', 'decide', 'humiliated', 'worker', 'name', 'callings', 'conclusion', 'daily', 'specials', 'tragedy', 'struck', 'pancake', 'crawfish', 'monster', \"mom's\", 'multi', 'grain', 'pumpkin', 'pecan', 'fluffy', 'airline', 'noca', 'gyro', 'lettuce', 'thoroughly', 'pastas', 'cheesecurds', 'typical', 'glance', 'finger', 'beauty', 'greasy', 'unhealthy', 'similarly', 'man', 'apology', 'tiramisu', 'cannoli', 'sun', 'meats', 'frenchman', 'martini', 'opinion', 'gc', 'sample', 'thirty', 'vacant', 'yellowtail', 'carpaccio', 'strangers', 'hello', 'donut', 'saving', 'disgraceful', 'suffers', 'greens', 'hearts', 'hankering', 'forth', 'consider', 'theft', 'eew', 'complete', 'overhaul', 'witnessed', 'guests', 'regularly', 'swung', 'deeply', 'efficient', 'sucker', 'olives', 'perpared', 'giant', 'slices', 'dusted', 'powdered', 'sugar', 'fo', 'accomodate', 'vegan', 'veggie', 'crumby', 'pale', 'croutons', \"it'll\", 'trips', 'crema', 'café', 'expanded', 'miss', 'philadelphia', 'north', 'scottsdale', 'soooooo', 'freaking', 'papers', 'reheated', 'wedges', 'absolute', 'tongue', 'cheek', 'bloody', 'mary', 'businesses', 'yellow', 'saffron', 'seasoning', 'grandmother', 'ignored', 'hostess', 'myself', 'boys', 'shirt', 'drastically', 'caesar', 'madhouse', 'proven', 'greatest', 'moods', 'macarons', 'insanely', 'informative', \"weren't\", 'deliver', 'plater', 'relax', 'sit', 'screams', \"somethat's\", 'duo', 'violinists', 'requested', 'personally', 'baklava', 'falafels', 'baba', 'ganoush', 'mgm', 'courteous', 'eclectic', 'onion', 'rings', 'nobu', 'google', 'smashburger', 'lover', 'gem', 'plantains', 'spends', 'themselves', 'panna', 'cotta', 'flavors', 'slaw', 'drenched', 'piano', 'soundtrack', 'rge', 'fillet', 'relleno', 'sergeant', 'auju', 'hawaiian', 'breeze', 'mango', 'magic', 'pineapple', 'smoothies', 'mortified', 'anyways', 'dripping', '2007', 'hospitality', 'industry', 'paradise', 'refrained', 'recommending', 'cibo', 'mean', 'famous', 'mouths', 'bellies', 'reminded', 'dough', 'tonight', 'elk', 'hooked', 'classics', 'sorely', 'quaint', 'deliciously', 'dylan', 'tummy', 'gratuity', 'larger', 'apple', 'han', 'nan', \"ryan's\", 'edinburgh', 'revisiting', 'naan', 'pine', 'nut', 'touched', 'airport', 'speedy', 'calligraphy', 'stood', 'begin', 'awkwardly', 'opened', 'guest', 'extensive', 'wide', 'array', 'inflate', 'smaller', 'grow', 'rapidly', 'lil', 'fuzzy', 'wontons', 'thick', 'level', 'spice', 'whelm', 'main', 'older', '30s', 'arepas', 'jalapeno', 'shoe', 'block', 'fancy', 'affordable', 'sour', 'soups', 'sunday', 'traditional', 'hunan', 'flair', 'bartenders', 'nutshell', 'restaraunt', 'smells', 'sewer', \"girlfriend's\", 'veal', 'satifying', 'join', 'club', 'email', 'colder', 'describing', 'tepid', 'chains', 'words', 'crowds', 'juries', 'lawyers', 'court', 'arrives', 'paying', '85', \"kid's\", 'wienerschnitzel', 'classic', 'maine', 'roll', 'brother', 'law', 'hereas', 'event', 'held', 'pissd', 'surprise', 'golden', 'hopes', 'bruschetta', 'devine', 'employee', 'lastly', 'mozzarella', 'negligent', 'unwelcome', 'suggest', 'consistent', 'packed', 'seasonal', 'fruit', 'peach', 'officially', 'blown', 'containers', 'opposed', 'cramming', 'takeout', 'boxes', 'crêpe', 'delicate', 'fair', 'kabuki', 'maria', 'article', 'spices', 'fucking', \"caballero's\", 'head', 'oysters', 'round', 'disbelief', 'qualified', 'version', 'foods', 'tolerance', 'polite', 'wash', 'biscuit', 'coconut', 'fella', 'huevos', 'rancheros', 'wines', 'pricey', 'temp', 'prepare', 'bare', 'gloves', 'deep', 'oil', 'pleasure', 'plethora', 'sandwiches', 'seal', 'approval', 'college', 'cooking', 'class', 'editing', 'besides', \"costco's\", 'highlighted', 'unique', 'grocery', 'japanese', 'dude', 'doughy', 'inch', 'wire', 'ourselves', 'albondigas', 'tomato', 'meatballs', 'occasions', 'medium', 'bloodiest', 'anymore', 'chai', 'latte', 'allergy', 'warnings', 'clue', 'contain', 'peanuts', 'mediterranean', 'beers', 'highlight', 'concern', 'mellow', 'mushroom', 'strawberry', 'unprofessional', 'loyal', 'patron', 'occasional', 'pats', 'bellagio', 'anticipated', 'correct', 'sals', 'fav', 'unexperienced', 'employees', 'chickens', 'heads', 'steakhouse', 'concept', 'guacamole', 'puréed', 'postinos', 'poisoning', 'batch', 'thinking', 'yay', 'hilarious', 'eve', 'remember', 'caring', 'teamwork', 'degree', 'ri', 'calamari', 'fondue', 'scene', \"denny's\", 'downright', 'waaaaaayyyyyyyyyy', 'sangria', 'glass', 'ridiculous', 'brisket', 'trippy', 'hurry', 'reservation', 'stretch', 'imagination', 'cashew', 'chipolte', 'ranch', 'dipping', 'sause', 'watered', 'workers', 'douchey', 'indoor', 'garden', 'con', 'spotty', 'ensued', 'apologize', 'fill', 'binge', 'drinking', 'carbs', 'insults', 'profound', 'deuchebaggery', 'solidify', \"don't'\", 'combo', 'ala', 'cart', 'blame', 'rave', 'del', 'avoided', 'hamburger', 'hell', \"ya'all\", 'fireball', 'disapppointment', 'correction', 'heimer', 'putting', 'cause', 'vomited', 'circumstances', 'tops', 'brownish', 'movies', 'ha', 'flop', '99', 'bigger', 'unwrapped', 'mile', 'brushfire', \"hasn't\", 'closed', 'mirage', 'refried', 'dried', 'crusty', 'caterpillar', 'appetite', 'instantly', 'ninja', \"hadn't\", 'poured', 'wound', 'drawing'])"
            ]
          },
          "metadata": {
            "tags": []
          },
          "execution_count": 6
        }
      ]
    },
    {
      "cell_type": "code",
      "metadata": {
        "id": "SQ9nvASVZ81V"
      },
      "source": [
        "review_seq=tokenizer.texts_to_sequences(text)"
      ],
      "execution_count": 7,
      "outputs": []
    },
    {
      "cell_type": "code",
      "metadata": {
        "id": "shamSOosafm3"
      },
      "source": [
        "review_pad_seq=pad_sequences(review_seq, maxlen=max_length, padding=padding,truncating=truct)"
      ],
      "execution_count": null,
      "outputs": []
    },
    {
      "cell_type": "code",
      "metadata": {
        "colab": {
          "base_uri": "https://localhost:8080/",
          "height": 163
        },
        "id": "xSqSXDikJ1o3",
        "outputId": "26af4dd7-67cb-45d0-c117-9cb9525d3003"
      },
      "source": [
        "review_pad_seq.shape"
      ],
      "execution_count": 8,
      "outputs": [
        {
          "output_type": "error",
          "ename": "NameError",
          "evalue": "ignored",
          "traceback": [
            "\u001b[0;31m---------------------------------------------------------------------------\u001b[0m",
            "\u001b[0;31mNameError\u001b[0m                                 Traceback (most recent call last)",
            "\u001b[0;32m<ipython-input-8-06b659463289>\u001b[0m in \u001b[0;36m<module>\u001b[0;34m()\u001b[0m\n\u001b[0;32m----> 1\u001b[0;31m \u001b[0mreview_pad_seq\u001b[0m\u001b[0;34m.\u001b[0m\u001b[0mshape\u001b[0m\u001b[0;34m\u001b[0m\u001b[0;34m\u001b[0m\u001b[0m\n\u001b[0m",
            "\u001b[0;31mNameError\u001b[0m: name 'review_pad_seq' is not defined"
          ]
        }
      ]
    },
    {
      "cell_type": "code",
      "metadata": {
        "id": "AKpKOvlrdJXy"
      },
      "source": [
        "X=np.array(review_pad_seq,dtype=np.int32)\n",
        "Y=np.array(sentiment,dtype=np.int32)\n",
        "X.shape"
      ],
      "execution_count": null,
      "outputs": []
    },
    {
      "cell_type": "code",
      "metadata": {
        "id": "dIrDdVZwbSXm"
      },
      "source": [
        "x_train,x_test,y_train, y_test = train_test_split(X,Y,test_size=0.2)\n",
        "print(x_train.shape,x_test.shape,y_train.shape,y_test.shape)"
      ],
      "execution_count": null,
      "outputs": []
    },
    {
      "cell_type": "code",
      "metadata": {
        "colab": {
          "base_uri": "https://localhost:8080/",
          "height": 754
        },
        "id": "dQLntVSoc7Tx",
        "outputId": "469d3e23-2741-48fe-c702-547b14bfbe52"
      },
      "source": [
        "model=tf.keras.models.Sequential(\n",
        "    [Embedding(vocab_size,64,input_length=max_length),\n",
        "     Bidirectional(LSTM(64,return_sequences=True)),\n",
        "     Bidirectional(LSTM(64))\n",
        "     Flatten(),\n",
        "     Dense(32,activation='relu'),\n",
        "     Dense(1,activation='sigmoid')]\n",
        ")\n",
        "\n",
        "#lrScheduler=tf.keras.callbacks.LearningRateScheduler(lambda epoch:1e-6*10**(epoch/30))\n",
        "\n",
        "early_stop=tf.keras.callbacks.EarlyStopping(patience=10)\n",
        "\n",
        "model.compile(optimizer=tf.keras.optimizers.Adam(lr=5e-4),loss=tf.keras.losses.binary_crossentropy,metrics=['accuracy'])\n",
        "plot_model(model,show_shapes=True)\n"
      ],
      "execution_count": null,
      "outputs": [
        {
          "output_type": "execute_result",
          "data": {
            "image/png": "[encoded data removed]",
            "text/plain": [
              "<IPython.core.display.Image object>"
            ]
          },
          "metadata": {
            "tags": []
          },
          "execution_count": 183
        }
      ]
    },
    {
      "cell_type": "code",
      "metadata": {
        "colab": {
          "base_uri": "https://localhost:8080/"
        },
        "id": "Z9NTWEt_fCnV",
        "outputId": "793877ee-722c-4ad3-eec3-7eadbb000c5f"
      },
      "source": [
        "history=model.fit(x_train,y_train,validation_data=(x_test,y_test),epochs=30,callbacks=[early_stop])"
      ],
      "execution_count": null,
      "outputs": [
        {
          "output_type": "stream",
          "text": [
            "Epoch 1/30\n",
            "50/50 [==============================] - 6s 130ms/step - loss: 0.6929 - accuracy: 0.5261 - val_loss: 0.6909 - val_accuracy: 0.5589\n",
            "Epoch 2/30\n",
            "50/50 [==============================] - 5s 105ms/step - loss: 0.6437 - accuracy: 0.6472 - val_loss: 0.5443 - val_accuracy: 0.7143\n",
            "Epoch 3/30\n",
            "50/50 [==============================] - 5s 105ms/step - loss: 0.4211 - accuracy: 0.8117 - val_loss: 0.4868 - val_accuracy: 0.7719\n",
            "Epoch 4/30\n",
            "50/50 [==============================] - 5s 106ms/step - loss: 0.2987 - accuracy: 0.8726 - val_loss: 0.5406 - val_accuracy: 0.7669\n",
            "Epoch 5/30\n",
            "50/50 [==============================] - 5s 106ms/step - loss: 0.2631 - accuracy: 0.8920 - val_loss: 0.5973 - val_accuracy: 0.7193\n",
            "Epoch 6/30\n",
            "50/50 [==============================] - 5s 106ms/step - loss: 0.2382 - accuracy: 0.9052 - val_loss: 0.5674 - val_accuracy: 0.7895\n",
            "Epoch 7/30\n",
            "50/50 [==============================] - 5s 106ms/step - loss: 0.2123 - accuracy: 0.9171 - val_loss: 0.5393 - val_accuracy: 0.7794\n",
            "Epoch 8/30\n",
            "50/50 [==============================] - 5s 106ms/step - loss: 0.1998 - accuracy: 0.9178 - val_loss: 0.5507 - val_accuracy: 0.7895\n",
            "Epoch 9/30\n",
            "50/50 [==============================] - 5s 106ms/step - loss: 0.1807 - accuracy: 0.9366 - val_loss: 0.6608 - val_accuracy: 0.7769\n",
            "Epoch 10/30\n",
            "50/50 [==============================] - 5s 105ms/step - loss: 0.1636 - accuracy: 0.9397 - val_loss: 0.5766 - val_accuracy: 0.7845\n",
            "Epoch 11/30\n",
            "50/50 [==============================] - 5s 105ms/step - loss: 0.1626 - accuracy: 0.9410 - val_loss: 0.7190 - val_accuracy: 0.7719\n",
            "Epoch 12/30\n",
            "50/50 [==============================] - 5s 106ms/step - loss: 0.1485 - accuracy: 0.9460 - val_loss: 0.5853 - val_accuracy: 0.7719\n",
            "Epoch 13/30\n",
            "50/50 [==============================] - 5s 105ms/step - loss: 0.1230 - accuracy: 0.9561 - val_loss: 0.7492 - val_accuracy: 0.7644\n"
          ],
          "name": "stdout"
        }
      ]
    },
    {
      "cell_type": "code",
      "metadata": {
        "colab": {
          "base_uri": "https://localhost:8080/"
        },
        "id": "RNkY9VaymIA5",
        "outputId": "85e6a4b3-1875-49d1-f948-d662fa20fdb1"
      },
      "source": [
        "model.evaluate(x_test,y_test)"
      ],
      "execution_count": null,
      "outputs": [
        {
          "output_type": "stream",
          "text": [
            "13/13 [==============================] - 0s 1ms/step - loss: 0.5137 - accuracy: 0.7544\n"
          ],
          "name": "stdout"
        },
        {
          "output_type": "execute_result",
          "data": {
            "text/plain": [
              "[0.5136810541152954, 0.7543859481811523]"
            ]
          },
          "metadata": {
            "tags": []
          },
          "execution_count": 164
        }
      ]
    },
    {
      "cell_type": "code",
      "metadata": {
        "colab": {
          "base_uri": "https://localhost:8080/"
        },
        "id": "G-0hOVzNfNjI",
        "outputId": "15aef0ac-a085-4bb2-ba82-daae3d3731b0"
      },
      "source": [
        "# First get the weights of the embedding layer\n",
        "e = model.layers[0]\n",
        "weights = e.get_weights()[0]\n",
        "print(weights.shape) # shape: (vocab_size, embedding_dim)"
      ],
      "execution_count": null,
      "outputs": [
        {
          "output_type": "stream",
          "text": [
            "(500, 64)\n"
          ],
          "name": "stdout"
        }
      ]
    },
    {
      "cell_type": "code",
      "metadata": {
        "id": "ltX21zH4m3G1"
      },
      "source": [
        "import io\n",
        "\n",
        "# Create the reverse word index\n",
        "reverse_word_index = dict([(value, key) for (key, value) in word_index.items()])\n",
        "\n",
        "# Write out the embedding vectors and metadata\n",
        "out_v = io.open('vecs.tsv', 'w', encoding='utf-8')\n",
        "out_m = io.open('meta.tsv', 'w', encoding='utf-8')\n",
        "for word_num in range(1, vocab_size):\n",
        "  word = reverse_word_index[word_num]\n",
        "  embeddings = weights[word_num]\n",
        "  out_m.write(word + \"\\n\")\n",
        "  out_v.write('\\t'.join([str(x) for x in embeddings]) + \"\\n\")\n",
        "out_v.close()\n",
        "out_m.close()"
      ],
      "execution_count": null,
      "outputs": []
    },
    {
      "cell_type": "code",
      "metadata": {
        "colab": {
          "base_uri": "https://localhost:8080/",
          "height": 17
        },
        "id": "ytcGfyPLnNcK",
        "outputId": "c8b1bab7-3877-4cb3-dd5c-862df7b5b9fa"
      },
      "source": [
        "# Download the files\n",
        "try:\n",
        "  from google.colab import files\n",
        "except ImportError:\n",
        "  pass\n",
        "else:\n",
        "  files.download('vecs.tsv')\n",
        "  files.download('meta.tsv')"
      ],
      "execution_count": null,
      "outputs": [
        {
          "output_type": "display_data",
          "data": {
            "application/javascript": [
              "\n",
              "    async function download(id, filename, size) {\n",
              "      if (!google.colab.kernel.accessAllowed) {\n",
              "        return;\n",
              "      }\n",
              "      const div = document.createElement('div');\n",
              "      const label = document.createElement('label');\n",
              "      label.textContent = `Downloading \"${filename}\": `;\n",
              "      div.appendChild(label);\n",
              "      const progress = document.createElement('progress');\n",
              "      progress.max = size;\n",
              "      div.appendChild(progress);\n",
              "      document.body.appendChild(div);\n",
              "\n",
              "      const buffers = [];\n",
              "      let downloaded = 0;\n",
              "\n",
              "      const channel = await google.colab.kernel.comms.open(id);\n",
              "      // Send a message to notify the kernel that we're ready.\n",
              "      channel.send({})\n",
              "\n",
              "      for await (const message of channel.messages) {\n",
              "        // Send a message to notify the kernel that we're ready.\n",
              "        channel.send({})\n",
              "        if (message.buffers) {\n",
              "          for (const buffer of message.buffers) {\n",
              "            buffers.push(buffer);\n",
              "            downloaded += buffer.byteLength;\n",
              "            progress.value = downloaded;\n",
              "          }\n",
              "        }\n",
              "      }\n",
              "      const blob = new Blob(buffers, {type: 'application/binary'});\n",
              "      const a = document.createElement('a');\n",
              "      a.href = window.URL.createObjectURL(blob);\n",
              "      a.download = filename;\n",
              "      div.appendChild(a);\n",
              "      a.click();\n",
              "      div.remove();\n",
              "    }\n",
              "  "
            ],
            "text/plain": [
              "<IPython.core.display.Javascript object>"
            ]
          },
          "metadata": {
            "tags": []
          }
        },
        {
          "output_type": "display_data",
          "data": {
            "application/javascript": [
              "download(\"download_6ef65327-bfbb-4adf-b4ed-3775fe015f7c\", \"vecs.tsv\", 390566)"
            ],
            "text/plain": [
              "<IPython.core.display.Javascript object>"
            ]
          },
          "metadata": {
            "tags": []
          }
        },
        {
          "output_type": "display_data",
          "data": {
            "application/javascript": [
              "\n",
              "    async function download(id, filename, size) {\n",
              "      if (!google.colab.kernel.accessAllowed) {\n",
              "        return;\n",
              "      }\n",
              "      const div = document.createElement('div');\n",
              "      const label = document.createElement('label');\n",
              "      label.textContent = `Downloading \"${filename}\": `;\n",
              "      div.appendChild(label);\n",
              "      const progress = document.createElement('progress');\n",
              "      progress.max = size;\n",
              "      div.appendChild(progress);\n",
              "      document.body.appendChild(div);\n",
              "\n",
              "      const buffers = [];\n",
              "      let downloaded = 0;\n",
              "\n",
              "      const channel = await google.colab.kernel.comms.open(id);\n",
              "      // Send a message to notify the kernel that we're ready.\n",
              "      channel.send({})\n",
              "\n",
              "      for await (const message of channel.messages) {\n",
              "        // Send a message to notify the kernel that we're ready.\n",
              "        channel.send({})\n",
              "        if (message.buffers) {\n",
              "          for (const buffer of message.buffers) {\n",
              "            buffers.push(buffer);\n",
              "            downloaded += buffer.byteLength;\n",
              "            progress.value = downloaded;\n",
              "          }\n",
              "        }\n",
              "      }\n",
              "      const blob = new Blob(buffers, {type: 'application/binary'});\n",
              "      const a = document.createElement('a');\n",
              "      a.href = window.URL.createObjectURL(blob);\n",
              "      a.download = filename;\n",
              "      div.appendChild(a);\n",
              "      a.click();\n",
              "      div.remove();\n",
              "    }\n",
              "  "
            ],
            "text/plain": [
              "<IPython.core.display.Javascript object>"
            ]
          },
          "metadata": {
            "tags": []
          }
        },
        {
          "output_type": "display_data",
          "data": {
            "application/javascript": [
              "download(\"download_8f63deba-d4e6-48f8-84c9-833e9acbe70d\", \"meta.tsv\", 3018)"
            ],
            "text/plain": [
              "<IPython.core.display.Javascript object>"
            ]
          },
          "metadata": {
            "tags": []
          }
        }
      ]
    },
    {
      "cell_type": "code",
      "metadata": {
        "colab": {
          "base_uri": "https://localhost:8080/"
        },
        "id": "AUX6eZ5LgfuT",
        "outputId": "5369b3be-3684-4c6e-e50c-6918d8cf4bad"
      },
      "source": [
        "embedding_layer=model.layers[0]\n",
        "weights=embedding_layer.get_weights()[0]\n",
        "weights.shape"
      ],
      "execution_count": null,
      "outputs": [
        {
          "output_type": "execute_result",
          "data": {
            "text/plain": [
              "(512, 64)"
            ]
          },
          "metadata": {
            "tags": []
          },
          "execution_count": 137
        }
      ]
    },
    {
      "cell_type": "code",
      "metadata": {
        "id": "mBm0u5aKK50O"
      },
      "source": [
        ""
      ],
      "execution_count": null,
      "outputs": []
    }
  ]
}